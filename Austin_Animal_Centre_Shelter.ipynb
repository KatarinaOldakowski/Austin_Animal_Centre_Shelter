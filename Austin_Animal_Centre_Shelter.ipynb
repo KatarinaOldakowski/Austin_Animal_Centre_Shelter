{
 "cells": [
  {
   "cell_type": "markdown",
   "id": "a793cd83",
   "metadata": {},
   "source": [
    "<b> Exploratory Data Analysis <b>"
   ]
  },
  {
   "cell_type": "code",
   "execution_count": 2,
   "id": "6a04a1ef",
   "metadata": {},
   "outputs": [
    {
     "name": "stdout",
     "output_type": "stream",
     "text": [
      "Python version: 3.10.11 | packaged by Anaconda, Inc. | (main, Apr 20 2023, 18:56:50) [MSC v.1916 64 bit (AMD64)]\n"
     ]
    }
   ],
   "source": [
    "import sys\n",
    "print(f\"Python version: {sys.version}\")\n",
    "import pandas as pd\n",
    "import numpy as np\n",
    "import warnings\n",
    "warnings.filterwarnings(\"ignore\")\n",
    "\n",
    "import matplotlib.pyplot as plt\n",
    "import seaborn as sns\n",
    "%matplotlib inline"
   ]
  },
  {
   "cell_type": "code",
   "execution_count": 3,
   "id": "da4e5310",
   "metadata": {},
   "outputs": [
    {
     "data": {
      "text/html": [
       "<div>\n",
       "<style scoped>\n",
       "    .dataframe tbody tr th:only-of-type {\n",
       "        vertical-align: middle;\n",
       "    }\n",
       "\n",
       "    .dataframe tbody tr th {\n",
       "        vertical-align: top;\n",
       "    }\n",
       "\n",
       "    .dataframe thead th {\n",
       "        text-align: right;\n",
       "    }\n",
       "</style>\n",
       "<table border=\"1\" class=\"dataframe\">\n",
       "  <thead>\n",
       "    <tr style=\"text-align: right;\">\n",
       "      <th></th>\n",
       "      <th>age_upon_outcome</th>\n",
       "      <th>animal_id_outcome</th>\n",
       "      <th>date_of_birth</th>\n",
       "      <th>outcome_subtype</th>\n",
       "      <th>outcome_type</th>\n",
       "      <th>sex_upon_outcome</th>\n",
       "      <th>age_upon_outcome_(days)</th>\n",
       "      <th>age_upon_outcome_(years)</th>\n",
       "      <th>age_upon_outcome_age_group</th>\n",
       "      <th>outcome_datetime</th>\n",
       "      <th>...</th>\n",
       "      <th>age_upon_intake_age_group</th>\n",
       "      <th>intake_datetime</th>\n",
       "      <th>intake_month</th>\n",
       "      <th>intake_year</th>\n",
       "      <th>intake_monthyear</th>\n",
       "      <th>intake_weekday</th>\n",
       "      <th>intake_hour</th>\n",
       "      <th>intake_number</th>\n",
       "      <th>time_in_shelter</th>\n",
       "      <th>time_in_shelter_days</th>\n",
       "    </tr>\n",
       "  </thead>\n",
       "  <tbody>\n",
       "    <tr>\n",
       "      <th>0</th>\n",
       "      <td>10 years</td>\n",
       "      <td>A006100</td>\n",
       "      <td>2007-07-09 00:00:00</td>\n",
       "      <td>NaN</td>\n",
       "      <td>Return to Owner</td>\n",
       "      <td>Neutered Male</td>\n",
       "      <td>3650</td>\n",
       "      <td>10.0</td>\n",
       "      <td>(7.5, 10.0]</td>\n",
       "      <td>2017-12-07 14:07:00</td>\n",
       "      <td>...</td>\n",
       "      <td>(7.5, 10.0]</td>\n",
       "      <td>2017-12-07 00:00:00</td>\n",
       "      <td>12</td>\n",
       "      <td>2017</td>\n",
       "      <td>2017-12</td>\n",
       "      <td>Thursday</td>\n",
       "      <td>14</td>\n",
       "      <td>1.0</td>\n",
       "      <td>0 days 14:07:00.000000000</td>\n",
       "      <td>0.588194</td>\n",
       "    </tr>\n",
       "    <tr>\n",
       "      <th>1</th>\n",
       "      <td>7 years</td>\n",
       "      <td>A006100</td>\n",
       "      <td>2007-07-09 00:00:00</td>\n",
       "      <td>NaN</td>\n",
       "      <td>Return to Owner</td>\n",
       "      <td>Neutered Male</td>\n",
       "      <td>2555</td>\n",
       "      <td>7.0</td>\n",
       "      <td>(5.0, 7.5]</td>\n",
       "      <td>2014-12-20 16:35:00</td>\n",
       "      <td>...</td>\n",
       "      <td>(5.0, 7.5]</td>\n",
       "      <td>2014-12-19 10:21:00</td>\n",
       "      <td>12</td>\n",
       "      <td>2014</td>\n",
       "      <td>2014-12</td>\n",
       "      <td>Friday</td>\n",
       "      <td>10</td>\n",
       "      <td>2.0</td>\n",
       "      <td>1 days 06:14:00.000000000</td>\n",
       "      <td>1.259722</td>\n",
       "    </tr>\n",
       "    <tr>\n",
       "      <th>2</th>\n",
       "      <td>6 years</td>\n",
       "      <td>A006100</td>\n",
       "      <td>2007-07-09 00:00:00</td>\n",
       "      <td>NaN</td>\n",
       "      <td>Return to Owner</td>\n",
       "      <td>Neutered Male</td>\n",
       "      <td>2190</td>\n",
       "      <td>6.0</td>\n",
       "      <td>(5.0, 7.5]</td>\n",
       "      <td>2014-03-08 17:10:00</td>\n",
       "      <td>...</td>\n",
       "      <td>(5.0, 7.5]</td>\n",
       "      <td>2014-03-07 14:26:00</td>\n",
       "      <td>3</td>\n",
       "      <td>2014</td>\n",
       "      <td>2014-03</td>\n",
       "      <td>Friday</td>\n",
       "      <td>14</td>\n",
       "      <td>3.0</td>\n",
       "      <td>1 days 02:44:00.000000000</td>\n",
       "      <td>1.113889</td>\n",
       "    </tr>\n",
       "    <tr>\n",
       "      <th>3</th>\n",
       "      <td>10 years</td>\n",
       "      <td>A047759</td>\n",
       "      <td>2004-04-02 00:00:00</td>\n",
       "      <td>Partner</td>\n",
       "      <td>Transfer</td>\n",
       "      <td>Neutered Male</td>\n",
       "      <td>3650</td>\n",
       "      <td>10.0</td>\n",
       "      <td>(7.5, 10.0]</td>\n",
       "      <td>2014-04-07 15:12:00</td>\n",
       "      <td>...</td>\n",
       "      <td>(7.5, 10.0]</td>\n",
       "      <td>2014-04-02 15:55:00</td>\n",
       "      <td>4</td>\n",
       "      <td>2014</td>\n",
       "      <td>2014-04</td>\n",
       "      <td>Wednesday</td>\n",
       "      <td>15</td>\n",
       "      <td>1.0</td>\n",
       "      <td>4 days 23:17:00.000000000</td>\n",
       "      <td>4.970139</td>\n",
       "    </tr>\n",
       "    <tr>\n",
       "      <th>4</th>\n",
       "      <td>16 years</td>\n",
       "      <td>A134067</td>\n",
       "      <td>1997-10-16 00:00:00</td>\n",
       "      <td>NaN</td>\n",
       "      <td>Return to Owner</td>\n",
       "      <td>Neutered Male</td>\n",
       "      <td>5840</td>\n",
       "      <td>16.0</td>\n",
       "      <td>(15.0, 17.5]</td>\n",
       "      <td>2013-11-16 11:54:00</td>\n",
       "      <td>...</td>\n",
       "      <td>(15.0, 17.5]</td>\n",
       "      <td>2013-11-16 09:02:00</td>\n",
       "      <td>11</td>\n",
       "      <td>2013</td>\n",
       "      <td>2013-11</td>\n",
       "      <td>Saturday</td>\n",
       "      <td>9</td>\n",
       "      <td>1.0</td>\n",
       "      <td>0 days 02:52:00.000000000</td>\n",
       "      <td>0.119444</td>\n",
       "    </tr>\n",
       "  </tbody>\n",
       "</table>\n",
       "<p>5 rows × 41 columns</p>\n",
       "</div>"
      ],
      "text/plain": [
       "  age_upon_outcome animal_id_outcome        date_of_birth outcome_subtype  \\\n",
       "0         10 years           A006100  2007-07-09 00:00:00             NaN   \n",
       "1          7 years           A006100  2007-07-09 00:00:00             NaN   \n",
       "2          6 years           A006100  2007-07-09 00:00:00             NaN   \n",
       "3         10 years           A047759  2004-04-02 00:00:00         Partner   \n",
       "4         16 years           A134067  1997-10-16 00:00:00             NaN   \n",
       "\n",
       "      outcome_type sex_upon_outcome  age_upon_outcome_(days)  \\\n",
       "0  Return to Owner    Neutered Male                     3650   \n",
       "1  Return to Owner    Neutered Male                     2555   \n",
       "2  Return to Owner    Neutered Male                     2190   \n",
       "3         Transfer    Neutered Male                     3650   \n",
       "4  Return to Owner    Neutered Male                     5840   \n",
       "\n",
       "   age_upon_outcome_(years) age_upon_outcome_age_group     outcome_datetime  \\\n",
       "0                      10.0                (7.5, 10.0]  2017-12-07 14:07:00   \n",
       "1                       7.0                 (5.0, 7.5]  2014-12-20 16:35:00   \n",
       "2                       6.0                 (5.0, 7.5]  2014-03-08 17:10:00   \n",
       "3                      10.0                (7.5, 10.0]  2014-04-07 15:12:00   \n",
       "4                      16.0               (15.0, 17.5]  2013-11-16 11:54:00   \n",
       "\n",
       "   ...  age_upon_intake_age_group      intake_datetime intake_month  \\\n",
       "0  ...                (7.5, 10.0]  2017-12-07 00:00:00           12   \n",
       "1  ...                 (5.0, 7.5]  2014-12-19 10:21:00           12   \n",
       "2  ...                 (5.0, 7.5]  2014-03-07 14:26:00            3   \n",
       "3  ...                (7.5, 10.0]  2014-04-02 15:55:00            4   \n",
       "4  ...               (15.0, 17.5]  2013-11-16 09:02:00           11   \n",
       "\n",
       "  intake_year  intake_monthyear  intake_weekday  intake_hour  intake_number  \\\n",
       "0        2017           2017-12        Thursday           14            1.0   \n",
       "1        2014           2014-12          Friday           10            2.0   \n",
       "2        2014           2014-03          Friday           14            3.0   \n",
       "3        2014           2014-04       Wednesday           15            1.0   \n",
       "4        2013           2013-11        Saturday            9            1.0   \n",
       "\n",
       "             time_in_shelter time_in_shelter_days  \n",
       "0  0 days 14:07:00.000000000             0.588194  \n",
       "1  1 days 06:14:00.000000000             1.259722  \n",
       "2  1 days 02:44:00.000000000             1.113889  \n",
       "3  4 days 23:17:00.000000000             4.970139  \n",
       "4  0 days 02:52:00.000000000             0.119444  \n",
       "\n",
       "[5 rows x 41 columns]"
      ]
     },
     "execution_count": 3,
     "metadata": {},
     "output_type": "execute_result"
    }
   ],
   "source": [
    "df = pd.read_csv(\"aac_intakes_outcomes.csv\")\n",
    "df.head()"
   ]
  },
  {
   "cell_type": "code",
   "execution_count": 4,
   "id": "5489f3a2",
   "metadata": {},
   "outputs": [
    {
     "data": {
      "text/plain": [
       "(79672, 41)"
      ]
     },
     "execution_count": 4,
     "metadata": {},
     "output_type": "execute_result"
    }
   ],
   "source": [
    "df.shape"
   ]
  },
  {
   "cell_type": "code",
   "execution_count": 5,
   "id": "e8baf42c",
   "metadata": {},
   "outputs": [
    {
     "name": "stdout",
     "output_type": "stream",
     "text": [
      "<class 'pandas.core.frame.DataFrame'>\n",
      "RangeIndex: 79672 entries, 0 to 79671\n",
      "Data columns (total 41 columns):\n",
      " #   Column                      Non-Null Count  Dtype  \n",
      "---  ------                      --------------  -----  \n",
      " 0   age_upon_outcome            79672 non-null  object \n",
      " 1   animal_id_outcome           79672 non-null  object \n",
      " 2   date_of_birth               79672 non-null  object \n",
      " 3   outcome_subtype             36348 non-null  object \n",
      " 4   outcome_type                79662 non-null  object \n",
      " 5   sex_upon_outcome            79671 non-null  object \n",
      " 6   age_upon_outcome_(days)     79672 non-null  int64  \n",
      " 7   age_upon_outcome_(years)    79672 non-null  float64\n",
      " 8   age_upon_outcome_age_group  79672 non-null  object \n",
      " 9   outcome_datetime            79672 non-null  object \n",
      " 10  outcome_month               79672 non-null  int64  \n",
      " 11  outcome_year                79672 non-null  int64  \n",
      " 12  outcome_monthyear           79672 non-null  object \n",
      " 13  outcome_weekday             79672 non-null  object \n",
      " 14  outcome_hour                79672 non-null  int64  \n",
      " 15  outcome_number              79672 non-null  float64\n",
      " 16  dob_year                    79672 non-null  int64  \n",
      " 17  dob_month                   79672 non-null  int64  \n",
      " 18  dob_monthyear               79672 non-null  object \n",
      " 19  age_upon_intake             79672 non-null  object \n",
      " 20  animal_id_intake            79672 non-null  object \n",
      " 21  animal_type                 79672 non-null  object \n",
      " 22  breed                       79672 non-null  object \n",
      " 23  color                       79672 non-null  object \n",
      " 24  found_location              79672 non-null  object \n",
      " 25  intake_condition            79672 non-null  object \n",
      " 26  intake_type                 79672 non-null  object \n",
      " 27  sex_upon_intake             79671 non-null  object \n",
      " 28  count                       79672 non-null  int64  \n",
      " 29  age_upon_intake_(days)      79672 non-null  int64  \n",
      " 30  age_upon_intake_(years)     79672 non-null  float64\n",
      " 31  age_upon_intake_age_group   79672 non-null  object \n",
      " 32  intake_datetime             79672 non-null  object \n",
      " 33  intake_month                79672 non-null  int64  \n",
      " 34  intake_year                 79672 non-null  int64  \n",
      " 35  intake_monthyear            79672 non-null  object \n",
      " 36  intake_weekday              79672 non-null  object \n",
      " 37  intake_hour                 79672 non-null  int64  \n",
      " 38  intake_number               79672 non-null  float64\n",
      " 39  time_in_shelter             79672 non-null  object \n",
      " 40  time_in_shelter_days        79672 non-null  float64\n",
      "dtypes: float64(5), int64(11), object(25)\n",
      "memory usage: 24.9+ MB\n"
     ]
    }
   ],
   "source": [
    "df.info()"
   ]
  },
  {
   "cell_type": "code",
   "execution_count": 6,
   "id": "01ed637c",
   "metadata": {},
   "outputs": [
    {
     "data": {
      "text/plain": [
       "['age_upon_outcome',\n",
       " 'animal_id_outcome',\n",
       " 'date_of_birth',\n",
       " 'outcome_subtype',\n",
       " 'outcome_type',\n",
       " 'sex_upon_outcome',\n",
       " 'age_upon_outcome_(days)',\n",
       " 'age_upon_outcome_(years)',\n",
       " 'age_upon_outcome_age_group',\n",
       " 'outcome_datetime',\n",
       " 'outcome_month',\n",
       " 'outcome_year',\n",
       " 'outcome_monthyear',\n",
       " 'outcome_weekday',\n",
       " 'outcome_hour',\n",
       " 'outcome_number',\n",
       " 'dob_year',\n",
       " 'dob_month',\n",
       " 'dob_monthyear',\n",
       " 'age_upon_intake',\n",
       " 'animal_id_intake',\n",
       " 'animal_type',\n",
       " 'breed',\n",
       " 'color',\n",
       " 'found_location',\n",
       " 'intake_condition',\n",
       " 'intake_type',\n",
       " 'sex_upon_intake',\n",
       " 'count',\n",
       " 'age_upon_intake_(days)',\n",
       " 'age_upon_intake_(years)',\n",
       " 'age_upon_intake_age_group',\n",
       " 'intake_datetime',\n",
       " 'intake_month',\n",
       " 'intake_year',\n",
       " 'intake_monthyear',\n",
       " 'intake_weekday',\n",
       " 'intake_hour',\n",
       " 'intake_number',\n",
       " 'time_in_shelter',\n",
       " 'time_in_shelter_days']"
      ]
     },
     "execution_count": 6,
     "metadata": {},
     "output_type": "execute_result"
    }
   ],
   "source": [
    "df.columns.tolist()"
   ]
  },
  {
   "cell_type": "code",
   "execution_count": 7,
   "id": "1781c0a7",
   "metadata": {},
   "outputs": [
    {
     "data": {
      "text/plain": [
       "2013"
      ]
     },
     "execution_count": 7,
     "metadata": {},
     "output_type": "execute_result"
    }
   ],
   "source": [
    "df[\"intake_year\"].min()"
   ]
  },
  {
   "cell_type": "code",
   "execution_count": 8,
   "id": "171dbb53",
   "metadata": {},
   "outputs": [
    {
     "data": {
      "text/plain": [
       "2018"
      ]
     },
     "execution_count": 8,
     "metadata": {},
     "output_type": "execute_result"
    }
   ],
   "source": [
    "df[\"intake_year\"].max()"
   ]
  },
  {
   "cell_type": "code",
   "execution_count": 9,
   "id": "05fb7147",
   "metadata": {},
   "outputs": [
    {
     "data": {
      "text/plain": [
       "Dog      45366\n",
       "Cat      29539\n",
       "Other     4428\n",
       "Bird       339\n",
       "Name: animal_type, dtype: int64"
      ]
     },
     "execution_count": 9,
     "metadata": {},
     "output_type": "execute_result"
    }
   ],
   "source": [
    "df[\"animal_type\"].value_counts()\n",
    "\n",
    "# In this dataset dogs are the majority typ of animals rescued"
   ]
  },
  {
   "cell_type": "code",
   "execution_count": 10,
   "id": "c4a7f23e",
   "metadata": {},
   "outputs": [
    {
     "data": {
      "text/plain": [
       "Domestic Shorthair Mix              23423\n",
       "Pit Bull Mix                         6256\n",
       "Chihuahua Shorthair Mix              4831\n",
       "Labrador Retriever Mix               4789\n",
       "Domestic Medium Hair Mix             2326\n",
       "                                    ...  \n",
       "Miniature Poodle/Havanese               1\n",
       "Rabbit Lh                               1\n",
       "French Bulldog/Pug                      1\n",
       "Irish Terrier/Irish Wolfhound           1\n",
       "Australian Shepherd/Basset Hound        1\n",
       "Name: breed, Length: 2155, dtype: int64"
      ]
     },
     "execution_count": 10,
     "metadata": {},
     "output_type": "execute_result"
    }
   ],
   "source": [
    "#pd.set_option('display.max_rows', None)\n",
    "\n",
    "df[\"breed\"].value_counts()"
   ]
  },
  {
   "cell_type": "code",
   "execution_count": 11,
   "id": "fd29e45d",
   "metadata": {},
   "outputs": [
    {
     "data": {
      "text/plain": [
       "2155"
      ]
     },
     "execution_count": 11,
     "metadata": {},
     "output_type": "execute_result"
    }
   ],
   "source": [
    "df[\"breed\"].nunique()"
   ]
  },
  {
   "cell_type": "code",
   "execution_count": 12,
   "id": "d19fecf2",
   "metadata": {},
   "outputs": [
    {
     "data": {
      "text/plain": [
       "age_upon_outcome                  0\n",
       "animal_id_outcome                 0\n",
       "date_of_birth                     0\n",
       "outcome_subtype               43324\n",
       "outcome_type                     10\n",
       "sex_upon_outcome                  1\n",
       "age_upon_outcome_(days)           0\n",
       "age_upon_outcome_(years)          0\n",
       "age_upon_outcome_age_group        0\n",
       "outcome_datetime                  0\n",
       "outcome_month                     0\n",
       "outcome_year                      0\n",
       "outcome_monthyear                 0\n",
       "outcome_weekday                   0\n",
       "outcome_hour                      0\n",
       "outcome_number                    0\n",
       "dob_year                          0\n",
       "dob_month                         0\n",
       "dob_monthyear                     0\n",
       "age_upon_intake                   0\n",
       "animal_id_intake                  0\n",
       "animal_type                       0\n",
       "breed                             0\n",
       "color                             0\n",
       "found_location                    0\n",
       "intake_condition                  0\n",
       "intake_type                       0\n",
       "sex_upon_intake                   1\n",
       "count                             0\n",
       "age_upon_intake_(days)            0\n",
       "age_upon_intake_(years)           0\n",
       "age_upon_intake_age_group         0\n",
       "intake_datetime                   0\n",
       "intake_month                      0\n",
       "intake_year                       0\n",
       "intake_monthyear                  0\n",
       "intake_weekday                    0\n",
       "intake_hour                       0\n",
       "intake_number                     0\n",
       "time_in_shelter                   0\n",
       "time_in_shelter_days              0\n",
       "dtype: int64"
      ]
     },
     "execution_count": 12,
     "metadata": {},
     "output_type": "execute_result"
    }
   ],
   "source": [
    "df.isnull().sum()"
   ]
  },
  {
   "cell_type": "markdown",
   "id": "e0ef60a0",
   "metadata": {},
   "source": [
    "<b> Data Preprocesing <b>"
   ]
  },
  {
   "cell_type": "code",
   "execution_count": 13,
   "id": "2cd579e4",
   "metadata": {},
   "outputs": [],
   "source": [
    "df = df.drop([\"outcome_subtype\"], axis = 1 )\n",
    "\n",
    "# outcome_subtype has more than half of the dataset record empty hence I decide to drop this column"
   ]
  },
  {
   "cell_type": "code",
   "execution_count": 14,
   "id": "ea459ca9",
   "metadata": {},
   "outputs": [
    {
     "data": {
      "text/plain": [
       "age_upon_outcome               0\n",
       "animal_id_outcome              0\n",
       "date_of_birth                  0\n",
       "outcome_type                  10\n",
       "sex_upon_outcome               1\n",
       "age_upon_outcome_(days)        0\n",
       "age_upon_outcome_(years)       0\n",
       "age_upon_outcome_age_group     0\n",
       "outcome_datetime               0\n",
       "outcome_month                  0\n",
       "outcome_year                   0\n",
       "outcome_monthyear              0\n",
       "outcome_weekday                0\n",
       "outcome_hour                   0\n",
       "outcome_number                 0\n",
       "dob_year                       0\n",
       "dob_month                      0\n",
       "dob_monthyear                  0\n",
       "age_upon_intake                0\n",
       "animal_id_intake               0\n",
       "animal_type                    0\n",
       "breed                          0\n",
       "color                          0\n",
       "found_location                 0\n",
       "intake_condition               0\n",
       "intake_type                    0\n",
       "sex_upon_intake                1\n",
       "count                          0\n",
       "age_upon_intake_(days)         0\n",
       "age_upon_intake_(years)        0\n",
       "age_upon_intake_age_group      0\n",
       "intake_datetime                0\n",
       "intake_month                   0\n",
       "intake_year                    0\n",
       "intake_monthyear               0\n",
       "intake_weekday                 0\n",
       "intake_hour                    0\n",
       "intake_number                  0\n",
       "time_in_shelter                0\n",
       "time_in_shelter_days           0\n",
       "dtype: int64"
      ]
     },
     "execution_count": 14,
     "metadata": {},
     "output_type": "execute_result"
    }
   ],
   "source": [
    "df.isnull().sum()"
   ]
  },
  {
   "cell_type": "code",
   "execution_count": 15,
   "id": "c75e48f5",
   "metadata": {},
   "outputs": [],
   "source": [
    "df[\"sex_upon_outcome\"].fillna(\"Unknown\", inplace = True)\n",
    "\n",
    "# sex_upon_outcome has only one missing value which now will be allocated with \"unknown\" type"
   ]
  },
  {
   "cell_type": "code",
   "execution_count": 16,
   "id": "aef24b2a",
   "metadata": {},
   "outputs": [
    {
     "data": {
      "text/plain": [
       "age_upon_outcome               0\n",
       "animal_id_outcome              0\n",
       "date_of_birth                  0\n",
       "outcome_type                  10\n",
       "sex_upon_outcome               0\n",
       "age_upon_outcome_(days)        0\n",
       "age_upon_outcome_(years)       0\n",
       "age_upon_outcome_age_group     0\n",
       "outcome_datetime               0\n",
       "outcome_month                  0\n",
       "outcome_year                   0\n",
       "outcome_monthyear              0\n",
       "outcome_weekday                0\n",
       "outcome_hour                   0\n",
       "outcome_number                 0\n",
       "dob_year                       0\n",
       "dob_month                      0\n",
       "dob_monthyear                  0\n",
       "age_upon_intake                0\n",
       "animal_id_intake               0\n",
       "animal_type                    0\n",
       "breed                          0\n",
       "color                          0\n",
       "found_location                 0\n",
       "intake_condition               0\n",
       "intake_type                    0\n",
       "sex_upon_intake                1\n",
       "count                          0\n",
       "age_upon_intake_(days)         0\n",
       "age_upon_intake_(years)        0\n",
       "age_upon_intake_age_group      0\n",
       "intake_datetime                0\n",
       "intake_month                   0\n",
       "intake_year                    0\n",
       "intake_monthyear               0\n",
       "intake_weekday                 0\n",
       "intake_hour                    0\n",
       "intake_number                  0\n",
       "time_in_shelter                0\n",
       "time_in_shelter_days           0\n",
       "dtype: int64"
      ]
     },
     "execution_count": 16,
     "metadata": {},
     "output_type": "execute_result"
    }
   ],
   "source": [
    "df.isnull().sum()"
   ]
  },
  {
   "cell_type": "code",
   "execution_count": 17,
   "id": "cfeed7fc",
   "metadata": {},
   "outputs": [
    {
     "data": {
      "text/plain": [
       "array(['Return to Owner', 'Transfer', 'Adoption', 'Euthanasia', 'Died',\n",
       "       'Rto-Adopt', 'Missing', 'Disposal', nan, 'Relocate'], dtype=object)"
      ]
     },
     "execution_count": 17,
     "metadata": {},
     "output_type": "execute_result"
    }
   ],
   "source": [
    "df[\"outcome_type\"].unique()"
   ]
  },
  {
   "cell_type": "code",
   "execution_count": 18,
   "id": "67ecae79",
   "metadata": {},
   "outputs": [],
   "source": [
    "df[\"outcome_type\"].fillna(\"Unknown\", inplace = True)\n",
    "\n",
    "# outcome_type has ten missing value which now will be allocated with \"unknown\" type"
   ]
  },
  {
   "cell_type": "code",
   "execution_count": 19,
   "id": "f831f912",
   "metadata": {},
   "outputs": [
    {
     "data": {
      "text/plain": [
       "age_upon_outcome              0\n",
       "animal_id_outcome             0\n",
       "date_of_birth                 0\n",
       "outcome_type                  0\n",
       "sex_upon_outcome              0\n",
       "age_upon_outcome_(days)       0\n",
       "age_upon_outcome_(years)      0\n",
       "age_upon_outcome_age_group    0\n",
       "outcome_datetime              0\n",
       "outcome_month                 0\n",
       "outcome_year                  0\n",
       "outcome_monthyear             0\n",
       "outcome_weekday               0\n",
       "outcome_hour                  0\n",
       "outcome_number                0\n",
       "dob_year                      0\n",
       "dob_month                     0\n",
       "dob_monthyear                 0\n",
       "age_upon_intake               0\n",
       "animal_id_intake              0\n",
       "animal_type                   0\n",
       "breed                         0\n",
       "color                         0\n",
       "found_location                0\n",
       "intake_condition              0\n",
       "intake_type                   0\n",
       "sex_upon_intake               1\n",
       "count                         0\n",
       "age_upon_intake_(days)        0\n",
       "age_upon_intake_(years)       0\n",
       "age_upon_intake_age_group     0\n",
       "intake_datetime               0\n",
       "intake_month                  0\n",
       "intake_year                   0\n",
       "intake_monthyear              0\n",
       "intake_weekday                0\n",
       "intake_hour                   0\n",
       "intake_number                 0\n",
       "time_in_shelter               0\n",
       "time_in_shelter_days          0\n",
       "dtype: int64"
      ]
     },
     "execution_count": 19,
     "metadata": {},
     "output_type": "execute_result"
    }
   ],
   "source": [
    "df.isnull().sum()"
   ]
  },
  {
   "cell_type": "code",
   "execution_count": 20,
   "id": "b033914b",
   "metadata": {},
   "outputs": [
    {
     "data": {
      "text/plain": [
       "array(['Neutered Male', 'Spayed Female', 'Intact Female', 'Intact Male',\n",
       "       'Unknown', nan], dtype=object)"
      ]
     },
     "execution_count": 20,
     "metadata": {},
     "output_type": "execute_result"
    }
   ],
   "source": [
    "df[\"sex_upon_intake\"].unique()"
   ]
  },
  {
   "cell_type": "code",
   "execution_count": 21,
   "id": "d0113152",
   "metadata": {},
   "outputs": [],
   "source": [
    "df[\"sex_upon_intake\"].fillna(\"Unknown\", inplace = True)\n",
    "\n",
    "# sex_upon_intake has only one missing value which now will be allocated with \"unknown\" type"
   ]
  },
  {
   "cell_type": "code",
   "execution_count": 22,
   "id": "81537a54",
   "metadata": {},
   "outputs": [
    {
     "data": {
      "text/plain": [
       "age_upon_outcome              0\n",
       "animal_id_outcome             0\n",
       "date_of_birth                 0\n",
       "outcome_type                  0\n",
       "sex_upon_outcome              0\n",
       "age_upon_outcome_(days)       0\n",
       "age_upon_outcome_(years)      0\n",
       "age_upon_outcome_age_group    0\n",
       "outcome_datetime              0\n",
       "outcome_month                 0\n",
       "outcome_year                  0\n",
       "outcome_monthyear             0\n",
       "outcome_weekday               0\n",
       "outcome_hour                  0\n",
       "outcome_number                0\n",
       "dob_year                      0\n",
       "dob_month                     0\n",
       "dob_monthyear                 0\n",
       "age_upon_intake               0\n",
       "animal_id_intake              0\n",
       "animal_type                   0\n",
       "breed                         0\n",
       "color                         0\n",
       "found_location                0\n",
       "intake_condition              0\n",
       "intake_type                   0\n",
       "sex_upon_intake               0\n",
       "count                         0\n",
       "age_upon_intake_(days)        0\n",
       "age_upon_intake_(years)       0\n",
       "age_upon_intake_age_group     0\n",
       "intake_datetime               0\n",
       "intake_month                  0\n",
       "intake_year                   0\n",
       "intake_monthyear              0\n",
       "intake_weekday                0\n",
       "intake_hour                   0\n",
       "intake_number                 0\n",
       "time_in_shelter               0\n",
       "time_in_shelter_days          0\n",
       "dtype: int64"
      ]
     },
     "execution_count": 22,
     "metadata": {},
     "output_type": "execute_result"
    }
   ],
   "source": [
    "df.isnull().sum()"
   ]
  },
  {
   "cell_type": "code",
   "execution_count": 23,
   "id": "377719c3",
   "metadata": {},
   "outputs": [],
   "source": [
    "df.set_index(\"animal_id_intake\", inplace = True)\n",
    "df.index.name = \"animal_id\"\n",
    "\n",
    "# animal_id_intake & animal_id_outcome has the same values so \n",
    "# Ive decided to set animal_id_intake as a new index"
   ]
  },
  {
   "cell_type": "code",
   "execution_count": 24,
   "id": "61d7a5d0",
   "metadata": {},
   "outputs": [],
   "source": [
    "df.drop(columns= \"animal_id_outcome\", inplace = True)"
   ]
  },
  {
   "cell_type": "code",
   "execution_count": 25,
   "id": "f6f03505",
   "metadata": {},
   "outputs": [
    {
     "data": {
      "text/html": [
       "<div>\n",
       "<style scoped>\n",
       "    .dataframe tbody tr th:only-of-type {\n",
       "        vertical-align: middle;\n",
       "    }\n",
       "\n",
       "    .dataframe tbody tr th {\n",
       "        vertical-align: top;\n",
       "    }\n",
       "\n",
       "    .dataframe thead th {\n",
       "        text-align: right;\n",
       "    }\n",
       "</style>\n",
       "<table border=\"1\" class=\"dataframe\">\n",
       "  <thead>\n",
       "    <tr style=\"text-align: right;\">\n",
       "      <th></th>\n",
       "      <th>age_upon_outcome</th>\n",
       "      <th>date_of_birth</th>\n",
       "      <th>outcome_type</th>\n",
       "      <th>sex_upon_outcome</th>\n",
       "      <th>age_upon_outcome_(days)</th>\n",
       "      <th>age_upon_outcome_(years)</th>\n",
       "      <th>age_upon_outcome_age_group</th>\n",
       "      <th>outcome_datetime</th>\n",
       "      <th>outcome_month</th>\n",
       "      <th>outcome_year</th>\n",
       "      <th>...</th>\n",
       "      <th>age_upon_intake_age_group</th>\n",
       "      <th>intake_datetime</th>\n",
       "      <th>intake_month</th>\n",
       "      <th>intake_year</th>\n",
       "      <th>intake_monthyear</th>\n",
       "      <th>intake_weekday</th>\n",
       "      <th>intake_hour</th>\n",
       "      <th>intake_number</th>\n",
       "      <th>time_in_shelter</th>\n",
       "      <th>time_in_shelter_days</th>\n",
       "    </tr>\n",
       "    <tr>\n",
       "      <th>animal_id</th>\n",
       "      <th></th>\n",
       "      <th></th>\n",
       "      <th></th>\n",
       "      <th></th>\n",
       "      <th></th>\n",
       "      <th></th>\n",
       "      <th></th>\n",
       "      <th></th>\n",
       "      <th></th>\n",
       "      <th></th>\n",
       "      <th></th>\n",
       "      <th></th>\n",
       "      <th></th>\n",
       "      <th></th>\n",
       "      <th></th>\n",
       "      <th></th>\n",
       "      <th></th>\n",
       "      <th></th>\n",
       "      <th></th>\n",
       "      <th></th>\n",
       "      <th></th>\n",
       "    </tr>\n",
       "  </thead>\n",
       "  <tbody>\n",
       "    <tr>\n",
       "      <th>A006100</th>\n",
       "      <td>10 years</td>\n",
       "      <td>2007-07-09 00:00:00</td>\n",
       "      <td>Return to Owner</td>\n",
       "      <td>Neutered Male</td>\n",
       "      <td>3650</td>\n",
       "      <td>10.0</td>\n",
       "      <td>(7.5, 10.0]</td>\n",
       "      <td>2017-12-07 14:07:00</td>\n",
       "      <td>12</td>\n",
       "      <td>2017</td>\n",
       "      <td>...</td>\n",
       "      <td>(7.5, 10.0]</td>\n",
       "      <td>2017-12-07 00:00:00</td>\n",
       "      <td>12</td>\n",
       "      <td>2017</td>\n",
       "      <td>2017-12</td>\n",
       "      <td>Thursday</td>\n",
       "      <td>14</td>\n",
       "      <td>1.0</td>\n",
       "      <td>0 days 14:07:00.000000000</td>\n",
       "      <td>0.588194</td>\n",
       "    </tr>\n",
       "    <tr>\n",
       "      <th>A006100</th>\n",
       "      <td>7 years</td>\n",
       "      <td>2007-07-09 00:00:00</td>\n",
       "      <td>Return to Owner</td>\n",
       "      <td>Neutered Male</td>\n",
       "      <td>2555</td>\n",
       "      <td>7.0</td>\n",
       "      <td>(5.0, 7.5]</td>\n",
       "      <td>2014-12-20 16:35:00</td>\n",
       "      <td>12</td>\n",
       "      <td>2014</td>\n",
       "      <td>...</td>\n",
       "      <td>(5.0, 7.5]</td>\n",
       "      <td>2014-12-19 10:21:00</td>\n",
       "      <td>12</td>\n",
       "      <td>2014</td>\n",
       "      <td>2014-12</td>\n",
       "      <td>Friday</td>\n",
       "      <td>10</td>\n",
       "      <td>2.0</td>\n",
       "      <td>1 days 06:14:00.000000000</td>\n",
       "      <td>1.259722</td>\n",
       "    </tr>\n",
       "    <tr>\n",
       "      <th>A006100</th>\n",
       "      <td>6 years</td>\n",
       "      <td>2007-07-09 00:00:00</td>\n",
       "      <td>Return to Owner</td>\n",
       "      <td>Neutered Male</td>\n",
       "      <td>2190</td>\n",
       "      <td>6.0</td>\n",
       "      <td>(5.0, 7.5]</td>\n",
       "      <td>2014-03-08 17:10:00</td>\n",
       "      <td>3</td>\n",
       "      <td>2014</td>\n",
       "      <td>...</td>\n",
       "      <td>(5.0, 7.5]</td>\n",
       "      <td>2014-03-07 14:26:00</td>\n",
       "      <td>3</td>\n",
       "      <td>2014</td>\n",
       "      <td>2014-03</td>\n",
       "      <td>Friday</td>\n",
       "      <td>14</td>\n",
       "      <td>3.0</td>\n",
       "      <td>1 days 02:44:00.000000000</td>\n",
       "      <td>1.113889</td>\n",
       "    </tr>\n",
       "    <tr>\n",
       "      <th>A047759</th>\n",
       "      <td>10 years</td>\n",
       "      <td>2004-04-02 00:00:00</td>\n",
       "      <td>Transfer</td>\n",
       "      <td>Neutered Male</td>\n",
       "      <td>3650</td>\n",
       "      <td>10.0</td>\n",
       "      <td>(7.5, 10.0]</td>\n",
       "      <td>2014-04-07 15:12:00</td>\n",
       "      <td>4</td>\n",
       "      <td>2014</td>\n",
       "      <td>...</td>\n",
       "      <td>(7.5, 10.0]</td>\n",
       "      <td>2014-04-02 15:55:00</td>\n",
       "      <td>4</td>\n",
       "      <td>2014</td>\n",
       "      <td>2014-04</td>\n",
       "      <td>Wednesday</td>\n",
       "      <td>15</td>\n",
       "      <td>1.0</td>\n",
       "      <td>4 days 23:17:00.000000000</td>\n",
       "      <td>4.970139</td>\n",
       "    </tr>\n",
       "    <tr>\n",
       "      <th>A134067</th>\n",
       "      <td>16 years</td>\n",
       "      <td>1997-10-16 00:00:00</td>\n",
       "      <td>Return to Owner</td>\n",
       "      <td>Neutered Male</td>\n",
       "      <td>5840</td>\n",
       "      <td>16.0</td>\n",
       "      <td>(15.0, 17.5]</td>\n",
       "      <td>2013-11-16 11:54:00</td>\n",
       "      <td>11</td>\n",
       "      <td>2013</td>\n",
       "      <td>...</td>\n",
       "      <td>(15.0, 17.5]</td>\n",
       "      <td>2013-11-16 09:02:00</td>\n",
       "      <td>11</td>\n",
       "      <td>2013</td>\n",
       "      <td>2013-11</td>\n",
       "      <td>Saturday</td>\n",
       "      <td>9</td>\n",
       "      <td>1.0</td>\n",
       "      <td>0 days 02:52:00.000000000</td>\n",
       "      <td>0.119444</td>\n",
       "    </tr>\n",
       "  </tbody>\n",
       "</table>\n",
       "<p>5 rows × 38 columns</p>\n",
       "</div>"
      ],
      "text/plain": [
       "          age_upon_outcome        date_of_birth     outcome_type  \\\n",
       "animal_id                                                          \n",
       "A006100           10 years  2007-07-09 00:00:00  Return to Owner   \n",
       "A006100            7 years  2007-07-09 00:00:00  Return to Owner   \n",
       "A006100            6 years  2007-07-09 00:00:00  Return to Owner   \n",
       "A047759           10 years  2004-04-02 00:00:00         Transfer   \n",
       "A134067           16 years  1997-10-16 00:00:00  Return to Owner   \n",
       "\n",
       "          sex_upon_outcome  age_upon_outcome_(days)  age_upon_outcome_(years)  \\\n",
       "animal_id                                                                       \n",
       "A006100      Neutered Male                     3650                      10.0   \n",
       "A006100      Neutered Male                     2555                       7.0   \n",
       "A006100      Neutered Male                     2190                       6.0   \n",
       "A047759      Neutered Male                     3650                      10.0   \n",
       "A134067      Neutered Male                     5840                      16.0   \n",
       "\n",
       "          age_upon_outcome_age_group     outcome_datetime  outcome_month  \\\n",
       "animal_id                                                                  \n",
       "A006100                  (7.5, 10.0]  2017-12-07 14:07:00             12   \n",
       "A006100                   (5.0, 7.5]  2014-12-20 16:35:00             12   \n",
       "A006100                   (5.0, 7.5]  2014-03-08 17:10:00              3   \n",
       "A047759                  (7.5, 10.0]  2014-04-07 15:12:00              4   \n",
       "A134067                 (15.0, 17.5]  2013-11-16 11:54:00             11   \n",
       "\n",
       "           outcome_year  ... age_upon_intake_age_group      intake_datetime  \\\n",
       "animal_id                ...                                                  \n",
       "A006100            2017  ...               (7.5, 10.0]  2017-12-07 00:00:00   \n",
       "A006100            2014  ...                (5.0, 7.5]  2014-12-19 10:21:00   \n",
       "A006100            2014  ...                (5.0, 7.5]  2014-03-07 14:26:00   \n",
       "A047759            2014  ...               (7.5, 10.0]  2014-04-02 15:55:00   \n",
       "A134067            2013  ...              (15.0, 17.5]  2013-11-16 09:02:00   \n",
       "\n",
       "           intake_month  intake_year  intake_monthyear  intake_weekday  \\\n",
       "animal_id                                                                \n",
       "A006100              12         2017           2017-12        Thursday   \n",
       "A006100              12         2014           2014-12          Friday   \n",
       "A006100               3         2014           2014-03          Friday   \n",
       "A047759               4         2014           2014-04       Wednesday   \n",
       "A134067              11         2013           2013-11        Saturday   \n",
       "\n",
       "          intake_hour intake_number            time_in_shelter  \\\n",
       "animal_id                                                        \n",
       "A006100            14           1.0  0 days 14:07:00.000000000   \n",
       "A006100            10           2.0  1 days 06:14:00.000000000   \n",
       "A006100            14           3.0  1 days 02:44:00.000000000   \n",
       "A047759            15           1.0  4 days 23:17:00.000000000   \n",
       "A134067             9           1.0  0 days 02:52:00.000000000   \n",
       "\n",
       "          time_in_shelter_days  \n",
       "animal_id                       \n",
       "A006100               0.588194  \n",
       "A006100               1.259722  \n",
       "A006100               1.113889  \n",
       "A047759               4.970139  \n",
       "A134067               0.119444  \n",
       "\n",
       "[5 rows x 38 columns]"
      ]
     },
     "execution_count": 25,
     "metadata": {},
     "output_type": "execute_result"
    }
   ],
   "source": [
    "df.head()"
   ]
  },
  {
   "cell_type": "code",
   "execution_count": 26,
   "id": "3d196604",
   "metadata": {},
   "outputs": [],
   "source": [
    "df.drop(columns = \n",
    "        [\"sex_upon_outcome\", \"age_upon_outcome_(days)\", \"outcome_month\", \"outcome_year\",\n",
    "        \"outcome_hour\", \"outcome_number\", \"dob_month\", \"dob_monthyear\", \"count\",\n",
    "        \"age_upon_intake_(years)\", \"intake_monthyear\", \"intake_hour\", \"intake_number\",\n",
    "        \"time_in_shelter\"],\n",
    "        inplace = True\n",
    ")\n",
    "\n",
    "# decided to drop some of the columns as I wont need them to analysis, ram will also benefit from it"
   ]
  },
  {
   "cell_type": "code",
   "execution_count": 27,
   "id": "b6fdf5fa",
   "metadata": {},
   "outputs": [
    {
     "data": {
      "text/html": [
       "<div>\n",
       "<style scoped>\n",
       "    .dataframe tbody tr th:only-of-type {\n",
       "        vertical-align: middle;\n",
       "    }\n",
       "\n",
       "    .dataframe tbody tr th {\n",
       "        vertical-align: top;\n",
       "    }\n",
       "\n",
       "    .dataframe thead th {\n",
       "        text-align: right;\n",
       "    }\n",
       "</style>\n",
       "<table border=\"1\" class=\"dataframe\">\n",
       "  <thead>\n",
       "    <tr style=\"text-align: right;\">\n",
       "      <th></th>\n",
       "      <th>age_upon_outcome</th>\n",
       "      <th>date_of_birth</th>\n",
       "      <th>outcome_type</th>\n",
       "      <th>age_upon_outcome_(years)</th>\n",
       "      <th>age_upon_outcome_age_group</th>\n",
       "      <th>outcome_datetime</th>\n",
       "      <th>outcome_monthyear</th>\n",
       "      <th>outcome_weekday</th>\n",
       "      <th>dob_year</th>\n",
       "      <th>age_upon_intake</th>\n",
       "      <th>...</th>\n",
       "      <th>intake_condition</th>\n",
       "      <th>intake_type</th>\n",
       "      <th>sex_upon_intake</th>\n",
       "      <th>age_upon_intake_(days)</th>\n",
       "      <th>age_upon_intake_age_group</th>\n",
       "      <th>intake_datetime</th>\n",
       "      <th>intake_month</th>\n",
       "      <th>intake_year</th>\n",
       "      <th>intake_weekday</th>\n",
       "      <th>time_in_shelter_days</th>\n",
       "    </tr>\n",
       "    <tr>\n",
       "      <th>animal_id</th>\n",
       "      <th></th>\n",
       "      <th></th>\n",
       "      <th></th>\n",
       "      <th></th>\n",
       "      <th></th>\n",
       "      <th></th>\n",
       "      <th></th>\n",
       "      <th></th>\n",
       "      <th></th>\n",
       "      <th></th>\n",
       "      <th></th>\n",
       "      <th></th>\n",
       "      <th></th>\n",
       "      <th></th>\n",
       "      <th></th>\n",
       "      <th></th>\n",
       "      <th></th>\n",
       "      <th></th>\n",
       "      <th></th>\n",
       "      <th></th>\n",
       "      <th></th>\n",
       "    </tr>\n",
       "  </thead>\n",
       "  <tbody>\n",
       "    <tr>\n",
       "      <th>A006100</th>\n",
       "      <td>10 years</td>\n",
       "      <td>2007-07-09 00:00:00</td>\n",
       "      <td>Return to Owner</td>\n",
       "      <td>10.0</td>\n",
       "      <td>(7.5, 10.0]</td>\n",
       "      <td>2017-12-07 14:07:00</td>\n",
       "      <td>2017-12</td>\n",
       "      <td>Thursday</td>\n",
       "      <td>2007</td>\n",
       "      <td>10 years</td>\n",
       "      <td>...</td>\n",
       "      <td>Normal</td>\n",
       "      <td>Stray</td>\n",
       "      <td>Neutered Male</td>\n",
       "      <td>3650</td>\n",
       "      <td>(7.5, 10.0]</td>\n",
       "      <td>2017-12-07 00:00:00</td>\n",
       "      <td>12</td>\n",
       "      <td>2017</td>\n",
       "      <td>Thursday</td>\n",
       "      <td>0.588194</td>\n",
       "    </tr>\n",
       "    <tr>\n",
       "      <th>A006100</th>\n",
       "      <td>7 years</td>\n",
       "      <td>2007-07-09 00:00:00</td>\n",
       "      <td>Return to Owner</td>\n",
       "      <td>7.0</td>\n",
       "      <td>(5.0, 7.5]</td>\n",
       "      <td>2014-12-20 16:35:00</td>\n",
       "      <td>2014-12</td>\n",
       "      <td>Saturday</td>\n",
       "      <td>2007</td>\n",
       "      <td>7 years</td>\n",
       "      <td>...</td>\n",
       "      <td>Normal</td>\n",
       "      <td>Public Assist</td>\n",
       "      <td>Neutered Male</td>\n",
       "      <td>2555</td>\n",
       "      <td>(5.0, 7.5]</td>\n",
       "      <td>2014-12-19 10:21:00</td>\n",
       "      <td>12</td>\n",
       "      <td>2014</td>\n",
       "      <td>Friday</td>\n",
       "      <td>1.259722</td>\n",
       "    </tr>\n",
       "    <tr>\n",
       "      <th>A006100</th>\n",
       "      <td>6 years</td>\n",
       "      <td>2007-07-09 00:00:00</td>\n",
       "      <td>Return to Owner</td>\n",
       "      <td>6.0</td>\n",
       "      <td>(5.0, 7.5]</td>\n",
       "      <td>2014-03-08 17:10:00</td>\n",
       "      <td>2014-03</td>\n",
       "      <td>Saturday</td>\n",
       "      <td>2007</td>\n",
       "      <td>6 years</td>\n",
       "      <td>...</td>\n",
       "      <td>Normal</td>\n",
       "      <td>Public Assist</td>\n",
       "      <td>Neutered Male</td>\n",
       "      <td>2190</td>\n",
       "      <td>(5.0, 7.5]</td>\n",
       "      <td>2014-03-07 14:26:00</td>\n",
       "      <td>3</td>\n",
       "      <td>2014</td>\n",
       "      <td>Friday</td>\n",
       "      <td>1.113889</td>\n",
       "    </tr>\n",
       "    <tr>\n",
       "      <th>A047759</th>\n",
       "      <td>10 years</td>\n",
       "      <td>2004-04-02 00:00:00</td>\n",
       "      <td>Transfer</td>\n",
       "      <td>10.0</td>\n",
       "      <td>(7.5, 10.0]</td>\n",
       "      <td>2014-04-07 15:12:00</td>\n",
       "      <td>2014-04</td>\n",
       "      <td>Monday</td>\n",
       "      <td>2004</td>\n",
       "      <td>10 years</td>\n",
       "      <td>...</td>\n",
       "      <td>Normal</td>\n",
       "      <td>Owner Surrender</td>\n",
       "      <td>Neutered Male</td>\n",
       "      <td>3650</td>\n",
       "      <td>(7.5, 10.0]</td>\n",
       "      <td>2014-04-02 15:55:00</td>\n",
       "      <td>4</td>\n",
       "      <td>2014</td>\n",
       "      <td>Wednesday</td>\n",
       "      <td>4.970139</td>\n",
       "    </tr>\n",
       "    <tr>\n",
       "      <th>A134067</th>\n",
       "      <td>16 years</td>\n",
       "      <td>1997-10-16 00:00:00</td>\n",
       "      <td>Return to Owner</td>\n",
       "      <td>16.0</td>\n",
       "      <td>(15.0, 17.5]</td>\n",
       "      <td>2013-11-16 11:54:00</td>\n",
       "      <td>2013-11</td>\n",
       "      <td>Saturday</td>\n",
       "      <td>1997</td>\n",
       "      <td>16 years</td>\n",
       "      <td>...</td>\n",
       "      <td>Injured</td>\n",
       "      <td>Public Assist</td>\n",
       "      <td>Neutered Male</td>\n",
       "      <td>5840</td>\n",
       "      <td>(15.0, 17.5]</td>\n",
       "      <td>2013-11-16 09:02:00</td>\n",
       "      <td>11</td>\n",
       "      <td>2013</td>\n",
       "      <td>Saturday</td>\n",
       "      <td>0.119444</td>\n",
       "    </tr>\n",
       "  </tbody>\n",
       "</table>\n",
       "<p>5 rows × 24 columns</p>\n",
       "</div>"
      ],
      "text/plain": [
       "          age_upon_outcome        date_of_birth     outcome_type  \\\n",
       "animal_id                                                          \n",
       "A006100           10 years  2007-07-09 00:00:00  Return to Owner   \n",
       "A006100            7 years  2007-07-09 00:00:00  Return to Owner   \n",
       "A006100            6 years  2007-07-09 00:00:00  Return to Owner   \n",
       "A047759           10 years  2004-04-02 00:00:00         Transfer   \n",
       "A134067           16 years  1997-10-16 00:00:00  Return to Owner   \n",
       "\n",
       "           age_upon_outcome_(years) age_upon_outcome_age_group  \\\n",
       "animal_id                                                        \n",
       "A006100                        10.0                (7.5, 10.0]   \n",
       "A006100                         7.0                 (5.0, 7.5]   \n",
       "A006100                         6.0                 (5.0, 7.5]   \n",
       "A047759                        10.0                (7.5, 10.0]   \n",
       "A134067                        16.0               (15.0, 17.5]   \n",
       "\n",
       "              outcome_datetime outcome_monthyear outcome_weekday  dob_year  \\\n",
       "animal_id                                                                    \n",
       "A006100    2017-12-07 14:07:00           2017-12        Thursday      2007   \n",
       "A006100    2014-12-20 16:35:00           2014-12        Saturday      2007   \n",
       "A006100    2014-03-08 17:10:00           2014-03        Saturday      2007   \n",
       "A047759    2014-04-07 15:12:00           2014-04          Monday      2004   \n",
       "A134067    2013-11-16 11:54:00           2013-11        Saturday      1997   \n",
       "\n",
       "          age_upon_intake  ... intake_condition      intake_type  \\\n",
       "animal_id                  ...                                     \n",
       "A006100          10 years  ...           Normal            Stray   \n",
       "A006100           7 years  ...           Normal    Public Assist   \n",
       "A006100           6 years  ...           Normal    Public Assist   \n",
       "A047759          10 years  ...           Normal  Owner Surrender   \n",
       "A134067          16 years  ...          Injured    Public Assist   \n",
       "\n",
       "          sex_upon_intake age_upon_intake_(days) age_upon_intake_age_group  \\\n",
       "animal_id                                                                    \n",
       "A006100     Neutered Male                   3650               (7.5, 10.0]   \n",
       "A006100     Neutered Male                   2555                (5.0, 7.5]   \n",
       "A006100     Neutered Male                   2190                (5.0, 7.5]   \n",
       "A047759     Neutered Male                   3650               (7.5, 10.0]   \n",
       "A134067     Neutered Male                   5840              (15.0, 17.5]   \n",
       "\n",
       "               intake_datetime intake_month  intake_year intake_weekday  \\\n",
       "animal_id                                                                 \n",
       "A006100    2017-12-07 00:00:00           12         2017       Thursday   \n",
       "A006100    2014-12-19 10:21:00           12         2014         Friday   \n",
       "A006100    2014-03-07 14:26:00            3         2014         Friday   \n",
       "A047759    2014-04-02 15:55:00            4         2014      Wednesday   \n",
       "A134067    2013-11-16 09:02:00           11         2013       Saturday   \n",
       "\n",
       "          time_in_shelter_days  \n",
       "animal_id                       \n",
       "A006100               0.588194  \n",
       "A006100               1.259722  \n",
       "A006100               1.113889  \n",
       "A047759               4.970139  \n",
       "A134067               0.119444  \n",
       "\n",
       "[5 rows x 24 columns]"
      ]
     },
     "execution_count": 27,
     "metadata": {},
     "output_type": "execute_result"
    }
   ],
   "source": [
    "df.head()"
   ]
  },
  {
   "cell_type": "code",
   "execution_count": 59,
   "id": "acd1920c",
   "metadata": {},
   "outputs": [
    {
     "data": {
      "image/png": "[encoded data removed]",
      "text/plain": [
       "<Figure size 1000x600 with 1 Axes>"
      ]
     },
     "metadata": {},
     "output_type": "display_data"
    }
   ],
   "source": [
    "animal_type_counts = df[\"animal_type\"].value_counts()\n",
    "\n",
    "plt.figure(figsize=(10,6))\n",
    "\n",
    "light_blue = \"#ADD8E6\" \n",
    "\n",
    "ax = animal_type_counts.plot(kind=\"bar\", color = light_blue)\n",
    "plt.title(\"Animal distribution\", fontsize =16, pad= 20, fontweight= \"bold\")\n",
    "plt.xlabel(\"Animal type\")\n",
    "plt.ylabel(\"Count\")\n",
    "plt.xticks(rotation=0)\n",
    "\n",
    "for i, count in enumerate(animal_type_counts):\n",
    "    ax.text(i, count, str(count), ha='center', va='bottom')\n",
    "    \n",
    "plt.show()\n",
    "\n",
    "# Dogs are the largest group in animal shelter, just slightly over 45thousands "
   ]
  },
  {
   "cell_type": "code",
   "execution_count": 29,
   "id": "718ec1d9",
   "metadata": {},
   "outputs": [
    {
     "data": {
      "text/plain": [
       "(22.5, 25.0]         1\n",
       "(20.0, 22.5]         4\n",
       "(17.5, 20.0]        54\n",
       "(15.0, 17.5]       166\n",
       "(12.5, 15.0]       868\n",
       "(10.0, 12.5]      1057\n",
       "(5.0, 7.5]        3423\n",
       "(7.5, 10.0]       3619\n",
       "(2.5, 5.0]       11068\n",
       "(-0.025, 2.5]    59412\n",
       "Name: age_upon_outcome_age_group, dtype: int64"
      ]
     },
     "execution_count": 29,
     "metadata": {},
     "output_type": "execute_result"
    }
   ],
   "source": [
    "df[\"age_upon_outcome_age_group\"].value_counts().sort_values()"
   ]
  },
  {
   "cell_type": "code",
   "execution_count": 58,
   "id": "8d1c16e8",
   "metadata": {},
   "outputs": [
    {
     "data": {
      "image/png": "[encoded data removed]",
      "text/plain": [
       "<Figure size 1200x800 with 1 Axes>"
      ]
     },
     "metadata": {},
     "output_type": "display_data"
    }
   ],
   "source": [
    "age_group_upon_outcome_counts = df[\"age_upon_outcome_age_group\"].value_counts().sort_values(ascending=False)\n",
    "\n",
    "light_blue = \"#ADD8E6\" \n",
    "\n",
    "plt.figure(figsize = (12,8))\n",
    "ax = age_group_upon_outcome_counts.plot(kind = \"bar\", color =light_blue)\n",
    "\n",
    "plt.title(\"Animal age group upon outcome distribution\", fontsize =16, pad= 20, fontweight= \"bold\")\n",
    "plt.xlabel(\"Age group in yrs\", fontsize = 14, labelpad =10)\n",
    "plt.ylabel(\"Count\", fontsize = 14, labelpad =10)\n",
    "plt.xticks(rotation=45)\n",
    "\n",
    "for i, count in enumerate(age_group_upon_outcome_counts):\n",
    "    ax.text(i, count, str(count), ha='center', va='bottom')\n",
    "\n",
    "plt.show()\n",
    "\n",
    "\n",
    "# Almost 60 thousands animals were less than 2,5 years in shelter. The longest years animal spent \n",
    "# in rescue was 25 years!"
   ]
  },
  {
   "cell_type": "code",
   "execution_count": 31,
   "id": "1ebf923a",
   "metadata": {},
   "outputs": [
    {
     "data": {
      "text/html": [
       "<div>\n",
       "<style scoped>\n",
       "    .dataframe tbody tr th:only-of-type {\n",
       "        vertical-align: middle;\n",
       "    }\n",
       "\n",
       "    .dataframe tbody tr th {\n",
       "        vertical-align: top;\n",
       "    }\n",
       "\n",
       "    .dataframe thead th {\n",
       "        text-align: right;\n",
       "    }\n",
       "</style>\n",
       "<table border=\"1\" class=\"dataframe\">\n",
       "  <thead>\n",
       "    <tr style=\"text-align: right;\">\n",
       "      <th></th>\n",
       "      <th>age_upon_outcome_age_group</th>\n",
       "      <th>outcome_type</th>\n",
       "    </tr>\n",
       "    <tr>\n",
       "      <th>animal_id</th>\n",
       "      <th></th>\n",
       "      <th></th>\n",
       "    </tr>\n",
       "  </thead>\n",
       "  <tbody>\n",
       "    <tr>\n",
       "      <th>A740127</th>\n",
       "      <td>(22.5, 25.0]</td>\n",
       "      <td>Transfer</td>\n",
       "    </tr>\n",
       "  </tbody>\n",
       "</table>\n",
       "</div>"
      ],
      "text/plain": [
       "          age_upon_outcome_age_group outcome_type\n",
       "animal_id                                        \n",
       "A740127                 (22.5, 25.0]     Transfer"
      ]
     },
     "execution_count": 31,
     "metadata": {},
     "output_type": "execute_result"
    }
   ],
   "source": [
    "# Define value_counts from age group\n",
    "oldest_age_group = \"(22.5, 25.0]\"\n",
    "\n",
    "\n",
    "mask = df[\"age_upon_outcome_age_group\"] == oldest_age_group\n",
    "\n",
    "# matching up record from outcome_type column to my oldest animal\n",
    "desired_rows = df[mask][[\"age_upon_outcome_age_group\", \"outcome_type\"]]\n",
    "\n",
    "desired_rows\n",
    "\n",
    "# After quick investigation the oldest animal hasnt even found a home, its been just transfered "
   ]
  },
  {
   "cell_type": "code",
   "execution_count": 32,
   "id": "65ecec85",
   "metadata": {},
   "outputs": [
    {
     "data": {
      "text/plain": [
       "['age_upon_outcome',\n",
       " 'date_of_birth',\n",
       " 'outcome_type',\n",
       " 'age_upon_outcome_(years)',\n",
       " 'age_upon_outcome_age_group',\n",
       " 'outcome_datetime',\n",
       " 'outcome_monthyear',\n",
       " 'outcome_weekday',\n",
       " 'dob_year',\n",
       " 'age_upon_intake',\n",
       " 'animal_type',\n",
       " 'breed',\n",
       " 'color',\n",
       " 'found_location',\n",
       " 'intake_condition',\n",
       " 'intake_type',\n",
       " 'sex_upon_intake',\n",
       " 'age_upon_intake_(days)',\n",
       " 'age_upon_intake_age_group',\n",
       " 'intake_datetime',\n",
       " 'intake_month',\n",
       " 'intake_year',\n",
       " 'intake_weekday',\n",
       " 'time_in_shelter_days']"
      ]
     },
     "execution_count": 32,
     "metadata": {},
     "output_type": "execute_result"
    }
   ],
   "source": [
    "df.columns.tolist()"
   ]
  },
  {
   "cell_type": "code",
   "execution_count": 57,
   "id": "4598b105",
   "metadata": {},
   "outputs": [
    {
     "data": {
      "image/png": "[encoded data removed]",
      "text/plain": [
       "<Figure size 800x600 with 1 Axes>"
      ]
     },
     "metadata": {},
     "output_type": "display_data"
    }
   ],
   "source": [
    "plt.figure(figsize=(8, 6))\n",
    "light_blue = \"#ADD8E6\" \n",
    "ax = sns.barplot(x=\"animal_type\", y=\"time_in_shelter_days\", data=df, ci=None, color=light_blue)\n",
    "\n",
    "ax.set_title(\"Time distribution spent in the shelter\", fontsize =16, pad= 20, fontweight= \"bold\")\n",
    "ax.set_xlabel(\"Type of Animal\", fontsize = 14, labelpad =10)\n",
    "ax.set_ylabel(\"Days Spent in Shelter\", fontsize = 14, labelpad =10)\n",
    "\n",
    "for p in ax.patches:\n",
    "    ax.annotate(f'{p.get_height():.2f}', (p.get_x() + p.get_width() / 2., p.get_height()), ha='center', va='center', fontsize=10, color='black', xytext=(0, 10), textcoords='offset points')\n",
    "\n",
    "plt.xticks(rotation=0) \n",
    "plt.show()\n",
    "\n",
    "# Cats has spend the longest time in the shelter"
   ]
  },
  {
   "cell_type": "code",
   "execution_count": 45,
   "id": "f060a641",
   "metadata": {},
   "outputs": [
    {
     "data": {
      "text/plain": [
       "Stray                 55935\n",
       "Owner Surrender       15028\n",
       "Public Assist          4994\n",
       "Wildlife               3464\n",
       "Euthanasia Request      251\n",
       "Name: intake_type, dtype: int64"
      ]
     },
     "execution_count": 45,
     "metadata": {},
     "output_type": "execute_result"
    }
   ],
   "source": [
    "df[\"intake_type\"].value_counts()"
   ]
  },
  {
   "cell_type": "code",
   "execution_count": 48,
   "id": "953e5d41",
   "metadata": {},
   "outputs": [
    {
     "data": {
      "image/png": "[encoded data removed]",
      "text/plain": [
       "<Figure size 1000x600 with 1 Axes>"
      ]
     },
     "metadata": {},
     "output_type": "display_data"
    }
   ],
   "source": [
    "plt.figure(figsize = (10,6))\n",
    "\n",
    "light_blue = (0.3, 0.6, 0.9, 1.0)\n",
    "\n",
    "ax = sns.countplot(x=\"animal_type\", hue=\"intake_type\", data=df, palette=\"light:blue\")\n",
    "\n",
    "\n",
    "ax.set_title(\"Intake type distribution\", fontsize =16, pad= 20, fontweight= \"bold\")\n",
    "ax.set_xlabel(\"Type of Animal\", fontsize = 14, labelpad =10)\n",
    "ax.set_ylabel(\"Count\", fontsize = 14, labelpad =10)\n",
    "\n",
    "plt.legend(title=\"Intake Type\", loc=\"upper right\")\n",
    "plt.xticks(rotation=0) \n",
    "plt.show()\n",
    "\n",
    "# The biggest problem shelter occuring are the stray animals, only other type animals \n",
    "# were taken to shelter due to euthanasia request"
   ]
  },
  {
   "cell_type": "code",
   "execution_count": 50,
   "id": "47bf5db3",
   "metadata": {},
   "outputs": [
    {
     "data": {
      "text/plain": [
       "5     7966\n",
       "10    7652\n",
       "6     7459\n",
       "3     6613\n",
       "11    6597\n",
       "7     6528\n",
       "8     6498\n",
       "9     6489\n",
       "4     6112\n",
       "12    6099\n",
       "1     5982\n",
       "2     5677\n",
       "Name: intake_month, dtype: int64"
      ]
     },
     "execution_count": 50,
     "metadata": {},
     "output_type": "execute_result"
    }
   ],
   "source": [
    "# lets we see if there is any particular busy month for rescue house\n",
    "df[\"intake_month\"].value_counts()"
   ]
  },
  {
   "cell_type": "code",
   "execution_count": 56,
   "id": "57db8920",
   "metadata": {},
   "outputs": [
    {
     "data": {
      "image/png": "[encoded data removed]",
      "text/plain": [
       "<Figure size 1000x600 with 1 Axes>"
      ]
     },
     "metadata": {},
     "output_type": "display_data"
    }
   ],
   "source": [
    "intake_month_counts = df[\"intake_month\"].value_counts()\n",
    "\n",
    "plt.figure(figsize=(10,6))\n",
    "light_blue = \"#ADD8E6\" \n",
    "\n",
    "ax = intake_month_counts.plot(kind=\"bar\", color=light_blue)\n",
    "\n",
    "plt.title(\"Monthly intake distribution\", fontsize =16, pad= 20, fontweight= \"bold\")\n",
    "plt.xlabel(\"Months\")\n",
    "plt.ylabel(\"Count\")\n",
    "plt.xticks(rotation=0)\n",
    "\n",
    "for i, count in enumerate(intake_month_counts):\n",
    "    ax.text(i, count, str(count), ha='center', va='bottom')\n",
    "    \n",
    "plt.show()\n",
    "\n",
    "\n",
    "# Thats interesting! its look like there is no much month difference between months although \n",
    "# the busiest three months were May, October and Jun"
   ]
  },
  {
   "cell_type": "code",
   "execution_count": 65,
   "id": "d89139b2",
   "metadata": {},
   "outputs": [
    {
     "data": {
      "image/png": "[encoded data removed]",
      "text/plain": [
       "<Figure size 1200x600 with 1 Axes>"
      ]
     },
     "metadata": {},
     "output_type": "display_data"
    }
   ],
   "source": [
    "outcome_type_counts = df[\"outcome_type\"].value_counts()\n",
    "\n",
    "plt.figure(figsize =(12,6))\n",
    "light_blue = \"#ADD8E6\" \n",
    "\n",
    "ax = outcome_type_counts.plot(kind = \"bar\", color = light_blue)\n",
    "\n",
    "plt.title(\"Outcome type distribution\", fontsize =16, pad= 20, fontweight= \"bold\")\n",
    "plt.xlabel(\"Outcome type\")\n",
    "plt.ylabel(\"Count\")\n",
    "\n",
    "for i, count in enumerate(outcome_type_counts):\n",
    "    ax.text(i, count, str(count), ha='center', va='bottom')\n",
    "\n",
    "plt.xticks(rotation = 45)\n",
    "plt.show()\n",
    "\n",
    "# luckily most of the animals secured their forever home, transfer and return to owner is \n",
    "# also have big impact into data"
   ]
  },
  {
   "cell_type": "code",
   "execution_count": 68,
   "id": "c51bb05a",
   "metadata": {},
   "outputs": [
    {
     "data": {
      "text/plain": [
       "['age_upon_outcome',\n",
       " 'date_of_birth',\n",
       " 'outcome_type',\n",
       " 'age_upon_outcome_(years)',\n",
       " 'age_upon_outcome_age_group',\n",
       " 'outcome_datetime',\n",
       " 'outcome_monthyear',\n",
       " 'outcome_weekday',\n",
       " 'dob_year',\n",
       " 'age_upon_intake',\n",
       " 'animal_type',\n",
       " 'breed',\n",
       " 'color',\n",
       " 'found_location',\n",
       " 'intake_condition',\n",
       " 'intake_type',\n",
       " 'sex_upon_intake',\n",
       " 'age_upon_intake_(days)',\n",
       " 'age_upon_intake_age_group',\n",
       " 'intake_datetime',\n",
       " 'intake_month',\n",
       " 'intake_year',\n",
       " 'intake_weekday',\n",
       " 'time_in_shelter_days']"
      ]
     },
     "execution_count": 68,
     "metadata": {},
     "output_type": "execute_result"
    }
   ],
   "source": [
    "df.columns.to_list()"
   ]
  },
  {
   "cell_type": "code",
   "execution_count": 90,
   "id": "b4daa89d",
   "metadata": {},
   "outputs": [
    {
     "data": {
      "text/html": [
       "<div>\n",
       "<style scoped>\n",
       "    .dataframe tbody tr th:only-of-type {\n",
       "        vertical-align: middle;\n",
       "    }\n",
       "\n",
       "    .dataframe tbody tr th {\n",
       "        vertical-align: top;\n",
       "    }\n",
       "\n",
       "    .dataframe thead th {\n",
       "        text-align: right;\n",
       "    }\n",
       "</style>\n",
       "<table border=\"1\" class=\"dataframe\">\n",
       "  <thead>\n",
       "    <tr style=\"text-align: right;\">\n",
       "      <th></th>\n",
       "      <th>animal_type</th>\n",
       "      <th>color</th>\n",
       "    </tr>\n",
       "    <tr>\n",
       "      <th>animal_id</th>\n",
       "      <th></th>\n",
       "      <th></th>\n",
       "    </tr>\n",
       "  </thead>\n",
       "  <tbody>\n",
       "    <tr>\n",
       "      <th>A214991</th>\n",
       "      <td>Cat</td>\n",
       "      <td>Black</td>\n",
       "    </tr>\n",
       "    <tr>\n",
       "      <th>A251268</th>\n",
       "      <td>Cat</td>\n",
       "      <td>Black</td>\n",
       "    </tr>\n",
       "    <tr>\n",
       "      <th>A287217</th>\n",
       "      <td>Cat</td>\n",
       "      <td>Black</td>\n",
       "    </tr>\n",
       "    <tr>\n",
       "      <th>A295822</th>\n",
       "      <td>Cat</td>\n",
       "      <td>Black</td>\n",
       "    </tr>\n",
       "    <tr>\n",
       "      <th>A341599</th>\n",
       "      <td>Cat</td>\n",
       "      <td>Black</td>\n",
       "    </tr>\n",
       "    <tr>\n",
       "      <th>...</th>\n",
       "      <td>...</td>\n",
       "      <td>...</td>\n",
       "    </tr>\n",
       "    <tr>\n",
       "      <th>A768805</th>\n",
       "      <td>Cat</td>\n",
       "      <td>Black</td>\n",
       "    </tr>\n",
       "    <tr>\n",
       "      <th>A768841</th>\n",
       "      <td>Cat</td>\n",
       "      <td>Black</td>\n",
       "    </tr>\n",
       "    <tr>\n",
       "      <th>A768947</th>\n",
       "      <td>Cat</td>\n",
       "      <td>Black</td>\n",
       "    </tr>\n",
       "    <tr>\n",
       "      <th>A768948</th>\n",
       "      <td>Cat</td>\n",
       "      <td>Black</td>\n",
       "    </tr>\n",
       "    <tr>\n",
       "      <th>A769056</th>\n",
       "      <td>Cat</td>\n",
       "      <td>Black</td>\n",
       "    </tr>\n",
       "  </tbody>\n",
       "</table>\n",
       "<p>3858 rows × 2 columns</p>\n",
       "</div>"
      ],
      "text/plain": [
       "          animal_type  color\n",
       "animal_id                   \n",
       "A214991           Cat  Black\n",
       "A251268           Cat  Black\n",
       "A287217           Cat  Black\n",
       "A295822           Cat  Black\n",
       "A341599           Cat  Black\n",
       "...               ...    ...\n",
       "A768805           Cat  Black\n",
       "A768841           Cat  Black\n",
       "A768947           Cat  Black\n",
       "A768948           Cat  Black\n",
       "A769056           Cat  Black\n",
       "\n",
       "[3858 rows x 2 columns]"
      ]
     },
     "execution_count": 90,
     "metadata": {},
     "output_type": "execute_result"
    }
   ],
   "source": [
    "animal_color = df[\"color\"]==\"Black\" \n",
    "animal = df[\"animal_type\"]==\"Cat\"\n",
    "\n",
    "black_cats = df[animal & animal_color][[\"animal_type\", \"color\"]]\n",
    "\n",
    "black_cats\n",
    "\n",
    "# there is almost 4000 black cats in shelter"
   ]
  },
  {
   "cell_type": "code",
   "execution_count": 92,
   "id": "d3710f0c",
   "metadata": {},
   "outputs": [
    {
     "name": "stdout",
     "output_type": "stream",
     "text": [
      "Fraction of Black Cats among All Cats: 13.06%\n"
     ]
    }
   ],
   "source": [
    "total_cats = (df[\"animal_type\"] == \"Cat\").sum()  \n",
    "count_black_cats = len(black_cats)\n",
    "\n",
    "\n",
    "fraction_black_cats = count_black_cats/ total_cats  \n",
    "\n",
    "print(f\"Fraction of Black Cats among all Cats: {fraction_black_cats:.2%}\")\n",
    "\n",
    "# Personally I though this number would be bigger.... its look like people dont believe \n",
    "# in exaggeration of black cats :)"
   ]
  }
 ],
 "metadata": {
  "kernelspec": {
   "display_name": "Python 3 (ipykernel)",
   "language": "python",
   "name": "python3"
  },
  "language_info": {
   "codemirror_mode": {
    "name": "ipython",
    "version": 3
   },
   "file_extension": ".py",
   "mimetype": "text/x-python",
   "name": "python",
   "nbconvert_exporter": "python",
   "pygments_lexer": "ipython3",
   "version": "3.10.11"
  }
 },
 "nbformat": 4,
 "nbformat_minor": 5
}
