{
 "cells": [
  {
   "cell_type": "markdown",
   "id": "a793cd83",
   "metadata": {},
   "source": [
    "<b> Exploratory Data Analysis <b>"
   ]
  },
  {
   "cell_type": "code",
   "execution_count": 2,
   "id": "6a04a1ef",
   "metadata": {},
   "outputs": [
    {
     "name": "stdout",
     "output_type": "stream",
     "text": [
      "Python version: 3.10.11 | packaged by Anaconda, Inc. | (main, Apr 20 2023, 18:56:50) [MSC v.1916 64 bit (AMD64)]\n"
     ]
    }
   ],
   "source": [
    "import sys\n",
    "print(f\"Python version: {sys.version}\")\n",
    "import pandas as pd\n",
    "import numpy as np\n",
    "import warnings\n",
    "warnings.filterwarnings(\"ignore\")\n",
    "\n",
    "import matplotlib.pyplot as plt\n",
    "import seaborn as sns\n",
    "%matplotlib inline"
   ]
  },
  {
   "cell_type": "code",
   "execution_count": 19,
   "id": "da4e5310",
   "metadata": {},
   "outputs": [
    {
     "data": {
      "text/html": [
       "<div>\n",
       "<style scoped>\n",
       "    .dataframe tbody tr th:only-of-type {\n",
       "        vertical-align: middle;\n",
       "    }\n",
       "\n",
       "    .dataframe tbody tr th {\n",
       "        vertical-align: top;\n",
       "    }\n",
       "\n",
       "    .dataframe thead th {\n",
       "        text-align: right;\n",
       "    }\n",
       "</style>\n",
       "<table border=\"1\" class=\"dataframe\">\n",
       "  <thead>\n",
       "    <tr style=\"text-align: right;\">\n",
       "      <th></th>\n",
       "      <th>age_upon_outcome</th>\n",
       "      <th>animal_id_outcome</th>\n",
       "      <th>date_of_birth</th>\n",
       "      <th>outcome_subtype</th>\n",
       "      <th>outcome_type</th>\n",
       "      <th>sex_upon_outcome</th>\n",
       "      <th>age_upon_outcome_(days)</th>\n",
       "      <th>age_upon_outcome_(years)</th>\n",
       "      <th>age_upon_outcome_age_group</th>\n",
       "      <th>outcome_datetime</th>\n",
       "      <th>...</th>\n",
       "      <th>age_upon_intake_age_group</th>\n",
       "      <th>intake_datetime</th>\n",
       "      <th>intake_month</th>\n",
       "      <th>intake_year</th>\n",
       "      <th>intake_monthyear</th>\n",
       "      <th>intake_weekday</th>\n",
       "      <th>intake_hour</th>\n",
       "      <th>intake_number</th>\n",
       "      <th>time_in_shelter</th>\n",
       "      <th>time_in_shelter_days</th>\n",
       "    </tr>\n",
       "  </thead>\n",
       "  <tbody>\n",
       "    <tr>\n",
       "      <th>0</th>\n",
       "      <td>10 years</td>\n",
       "      <td>A006100</td>\n",
       "      <td>2007-07-09 00:00:00</td>\n",
       "      <td>NaN</td>\n",
       "      <td>Return to Owner</td>\n",
       "      <td>Neutered Male</td>\n",
       "      <td>3650</td>\n",
       "      <td>10.0</td>\n",
       "      <td>(7.5, 10.0]</td>\n",
       "      <td>2017-12-07 14:07:00</td>\n",
       "      <td>...</td>\n",
       "      <td>(7.5, 10.0]</td>\n",
       "      <td>2017-12-07 00:00:00</td>\n",
       "      <td>12</td>\n",
       "      <td>2017</td>\n",
       "      <td>2017-12</td>\n",
       "      <td>Thursday</td>\n",
       "      <td>14</td>\n",
       "      <td>1.0</td>\n",
       "      <td>0 days 14:07:00.000000000</td>\n",
       "      <td>0.588194</td>\n",
       "    </tr>\n",
       "    <tr>\n",
       "      <th>1</th>\n",
       "      <td>7 years</td>\n",
       "      <td>A006100</td>\n",
       "      <td>2007-07-09 00:00:00</td>\n",
       "      <td>NaN</td>\n",
       "      <td>Return to Owner</td>\n",
       "      <td>Neutered Male</td>\n",
       "      <td>2555</td>\n",
       "      <td>7.0</td>\n",
       "      <td>(5.0, 7.5]</td>\n",
       "      <td>2014-12-20 16:35:00</td>\n",
       "      <td>...</td>\n",
       "      <td>(5.0, 7.5]</td>\n",
       "      <td>2014-12-19 10:21:00</td>\n",
       "      <td>12</td>\n",
       "      <td>2014</td>\n",
       "      <td>2014-12</td>\n",
       "      <td>Friday</td>\n",
       "      <td>10</td>\n",
       "      <td>2.0</td>\n",
       "      <td>1 days 06:14:00.000000000</td>\n",
       "      <td>1.259722</td>\n",
       "    </tr>\n",
       "    <tr>\n",
       "      <th>2</th>\n",
       "      <td>6 years</td>\n",
       "      <td>A006100</td>\n",
       "      <td>2007-07-09 00:00:00</td>\n",
       "      <td>NaN</td>\n",
       "      <td>Return to Owner</td>\n",
       "      <td>Neutered Male</td>\n",
       "      <td>2190</td>\n",
       "      <td>6.0</td>\n",
       "      <td>(5.0, 7.5]</td>\n",
       "      <td>2014-03-08 17:10:00</td>\n",
       "      <td>...</td>\n",
       "      <td>(5.0, 7.5]</td>\n",
       "      <td>2014-03-07 14:26:00</td>\n",
       "      <td>3</td>\n",
       "      <td>2014</td>\n",
       "      <td>2014-03</td>\n",
       "      <td>Friday</td>\n",
       "      <td>14</td>\n",
       "      <td>3.0</td>\n",
       "      <td>1 days 02:44:00.000000000</td>\n",
       "      <td>1.113889</td>\n",
       "    </tr>\n",
       "    <tr>\n",
       "      <th>3</th>\n",
       "      <td>10 years</td>\n",
       "      <td>A047759</td>\n",
       "      <td>2004-04-02 00:00:00</td>\n",
       "      <td>Partner</td>\n",
       "      <td>Transfer</td>\n",
       "      <td>Neutered Male</td>\n",
       "      <td>3650</td>\n",
       "      <td>10.0</td>\n",
       "      <td>(7.5, 10.0]</td>\n",
       "      <td>2014-04-07 15:12:00</td>\n",
       "      <td>...</td>\n",
       "      <td>(7.5, 10.0]</td>\n",
       "      <td>2014-04-02 15:55:00</td>\n",
       "      <td>4</td>\n",
       "      <td>2014</td>\n",
       "      <td>2014-04</td>\n",
       "      <td>Wednesday</td>\n",
       "      <td>15</td>\n",
       "      <td>1.0</td>\n",
       "      <td>4 days 23:17:00.000000000</td>\n",
       "      <td>4.970139</td>\n",
       "    </tr>\n",
       "    <tr>\n",
       "      <th>4</th>\n",
       "      <td>16 years</td>\n",
       "      <td>A134067</td>\n",
       "      <td>1997-10-16 00:00:00</td>\n",
       "      <td>NaN</td>\n",
       "      <td>Return to Owner</td>\n",
       "      <td>Neutered Male</td>\n",
       "      <td>5840</td>\n",
       "      <td>16.0</td>\n",
       "      <td>(15.0, 17.5]</td>\n",
       "      <td>2013-11-16 11:54:00</td>\n",
       "      <td>...</td>\n",
       "      <td>(15.0, 17.5]</td>\n",
       "      <td>2013-11-16 09:02:00</td>\n",
       "      <td>11</td>\n",
       "      <td>2013</td>\n",
       "      <td>2013-11</td>\n",
       "      <td>Saturday</td>\n",
       "      <td>9</td>\n",
       "      <td>1.0</td>\n",
       "      <td>0 days 02:52:00.000000000</td>\n",
       "      <td>0.119444</td>\n",
       "    </tr>\n",
       "  </tbody>\n",
       "</table>\n",
       "<p>5 rows × 41 columns</p>\n",
       "</div>"
      ],
      "text/plain": [
       "  age_upon_outcome animal_id_outcome        date_of_birth outcome_subtype  \\\n",
       "0         10 years           A006100  2007-07-09 00:00:00             NaN   \n",
       "1          7 years           A006100  2007-07-09 00:00:00             NaN   \n",
       "2          6 years           A006100  2007-07-09 00:00:00             NaN   \n",
       "3         10 years           A047759  2004-04-02 00:00:00         Partner   \n",
       "4         16 years           A134067  1997-10-16 00:00:00             NaN   \n",
       "\n",
       "      outcome_type sex_upon_outcome  age_upon_outcome_(days)  \\\n",
       "0  Return to Owner    Neutered Male                     3650   \n",
       "1  Return to Owner    Neutered Male                     2555   \n",
       "2  Return to Owner    Neutered Male                     2190   \n",
       "3         Transfer    Neutered Male                     3650   \n",
       "4  Return to Owner    Neutered Male                     5840   \n",
       "\n",
       "   age_upon_outcome_(years) age_upon_outcome_age_group     outcome_datetime  \\\n",
       "0                      10.0                (7.5, 10.0]  2017-12-07 14:07:00   \n",
       "1                       7.0                 (5.0, 7.5]  2014-12-20 16:35:00   \n",
       "2                       6.0                 (5.0, 7.5]  2014-03-08 17:10:00   \n",
       "3                      10.0                (7.5, 10.0]  2014-04-07 15:12:00   \n",
       "4                      16.0               (15.0, 17.5]  2013-11-16 11:54:00   \n",
       "\n",
       "   ...  age_upon_intake_age_group      intake_datetime intake_month  \\\n",
       "0  ...                (7.5, 10.0]  2017-12-07 00:00:00           12   \n",
       "1  ...                 (5.0, 7.5]  2014-12-19 10:21:00           12   \n",
       "2  ...                 (5.0, 7.5]  2014-03-07 14:26:00            3   \n",
       "3  ...                (7.5, 10.0]  2014-04-02 15:55:00            4   \n",
       "4  ...               (15.0, 17.5]  2013-11-16 09:02:00           11   \n",
       "\n",
       "  intake_year  intake_monthyear  intake_weekday  intake_hour  intake_number  \\\n",
       "0        2017           2017-12        Thursday           14            1.0   \n",
       "1        2014           2014-12          Friday           10            2.0   \n",
       "2        2014           2014-03          Friday           14            3.0   \n",
       "3        2014           2014-04       Wednesday           15            1.0   \n",
       "4        2013           2013-11        Saturday            9            1.0   \n",
       "\n",
       "             time_in_shelter time_in_shelter_days  \n",
       "0  0 days 14:07:00.000000000             0.588194  \n",
       "1  1 days 06:14:00.000000000             1.259722  \n",
       "2  1 days 02:44:00.000000000             1.113889  \n",
       "3  4 days 23:17:00.000000000             4.970139  \n",
       "4  0 days 02:52:00.000000000             0.119444  \n",
       "\n",
       "[5 rows x 41 columns]"
      ]
     },
     "execution_count": 19,
     "metadata": {},
     "output_type": "execute_result"
    }
   ],
   "source": [
    "df = pd.read_csv(\"aac_intakes_outcomes.csv\")\n",
    "df.head()"
   ]
  },
  {
   "cell_type": "code",
   "execution_count": 20,
   "id": "5489f3a2",
   "metadata": {},
   "outputs": [
    {
     "data": {
      "text/plain": [
       "(79672, 41)"
      ]
     },
     "execution_count": 20,
     "metadata": {},
     "output_type": "execute_result"
    }
   ],
   "source": [
    "df.shape"
   ]
  },
  {
   "cell_type": "code",
   "execution_count": 21,
   "id": "e8baf42c",
   "metadata": {},
   "outputs": [
    {
     "name": "stdout",
     "output_type": "stream",
     "text": [
      "<class 'pandas.core.frame.DataFrame'>\n",
      "RangeIndex: 79672 entries, 0 to 79671\n",
      "Data columns (total 41 columns):\n",
      " #   Column                      Non-Null Count  Dtype  \n",
      "---  ------                      --------------  -----  \n",
      " 0   age_upon_outcome            79672 non-null  object \n",
      " 1   animal_id_outcome           79672 non-null  object \n",
      " 2   date_of_birth               79672 non-null  object \n",
      " 3   outcome_subtype             36348 non-null  object \n",
      " 4   outcome_type                79662 non-null  object \n",
      " 5   sex_upon_outcome            79671 non-null  object \n",
      " 6   age_upon_outcome_(days)     79672 non-null  int64  \n",
      " 7   age_upon_outcome_(years)    79672 non-null  float64\n",
      " 8   age_upon_outcome_age_group  79672 non-null  object \n",
      " 9   outcome_datetime            79672 non-null  object \n",
      " 10  outcome_month               79672 non-null  int64  \n",
      " 11  outcome_year                79672 non-null  int64  \n",
      " 12  outcome_monthyear           79672 non-null  object \n",
      " 13  outcome_weekday             79672 non-null  object \n",
      " 14  outcome_hour                79672 non-null  int64  \n",
      " 15  outcome_number              79672 non-null  float64\n",
      " 16  dob_year                    79672 non-null  int64  \n",
      " 17  dob_month                   79672 non-null  int64  \n",
      " 18  dob_monthyear               79672 non-null  object \n",
      " 19  age_upon_intake             79672 non-null  object \n",
      " 20  animal_id_intake            79672 non-null  object \n",
      " 21  animal_type                 79672 non-null  object \n",
      " 22  breed                       79672 non-null  object \n",
      " 23  color                       79672 non-null  object \n",
      " 24  found_location              79672 non-null  object \n",
      " 25  intake_condition            79672 non-null  object \n",
      " 26  intake_type                 79672 non-null  object \n",
      " 27  sex_upon_intake             79671 non-null  object \n",
      " 28  count                       79672 non-null  int64  \n",
      " 29  age_upon_intake_(days)      79672 non-null  int64  \n",
      " 30  age_upon_intake_(years)     79672 non-null  float64\n",
      " 31  age_upon_intake_age_group   79672 non-null  object \n",
      " 32  intake_datetime             79672 non-null  object \n",
      " 33  intake_month                79672 non-null  int64  \n",
      " 34  intake_year                 79672 non-null  int64  \n",
      " 35  intake_monthyear            79672 non-null  object \n",
      " 36  intake_weekday              79672 non-null  object \n",
      " 37  intake_hour                 79672 non-null  int64  \n",
      " 38  intake_number               79672 non-null  float64\n",
      " 39  time_in_shelter             79672 non-null  object \n",
      " 40  time_in_shelter_days        79672 non-null  float64\n",
      "dtypes: float64(5), int64(11), object(25)\n",
      "memory usage: 24.9+ MB\n"
     ]
    }
   ],
   "source": [
    "df.info()"
   ]
  },
  {
   "cell_type": "code",
   "execution_count": 22,
   "id": "01ed637c",
   "metadata": {},
   "outputs": [
    {
     "data": {
      "text/plain": [
       "['age_upon_outcome',\n",
       " 'animal_id_outcome',\n",
       " 'date_of_birth',\n",
       " 'outcome_subtype',\n",
       " 'outcome_type',\n",
       " 'sex_upon_outcome',\n",
       " 'age_upon_outcome_(days)',\n",
       " 'age_upon_outcome_(years)',\n",
       " 'age_upon_outcome_age_group',\n",
       " 'outcome_datetime',\n",
       " 'outcome_month',\n",
       " 'outcome_year',\n",
       " 'outcome_monthyear',\n",
       " 'outcome_weekday',\n",
       " 'outcome_hour',\n",
       " 'outcome_number',\n",
       " 'dob_year',\n",
       " 'dob_month',\n",
       " 'dob_monthyear',\n",
       " 'age_upon_intake',\n",
       " 'animal_id_intake',\n",
       " 'animal_type',\n",
       " 'breed',\n",
       " 'color',\n",
       " 'found_location',\n",
       " 'intake_condition',\n",
       " 'intake_type',\n",
       " 'sex_upon_intake',\n",
       " 'count',\n",
       " 'age_upon_intake_(days)',\n",
       " 'age_upon_intake_(years)',\n",
       " 'age_upon_intake_age_group',\n",
       " 'intake_datetime',\n",
       " 'intake_month',\n",
       " 'intake_year',\n",
       " 'intake_monthyear',\n",
       " 'intake_weekday',\n",
       " 'intake_hour',\n",
       " 'intake_number',\n",
       " 'time_in_shelter',\n",
       " 'time_in_shelter_days']"
      ]
     },
     "execution_count": 22,
     "metadata": {},
     "output_type": "execute_result"
    }
   ],
   "source": [
    "df.columns.tolist()"
   ]
  },
  {
   "cell_type": "code",
   "execution_count": 23,
   "id": "1781c0a7",
   "metadata": {},
   "outputs": [
    {
     "data": {
      "text/plain": [
       "2013"
      ]
     },
     "execution_count": 23,
     "metadata": {},
     "output_type": "execute_result"
    }
   ],
   "source": [
    "df[\"intake_year\"].min()"
   ]
  },
  {
   "cell_type": "code",
   "execution_count": 24,
   "id": "171dbb53",
   "metadata": {},
   "outputs": [
    {
     "data": {
      "text/plain": [
       "2018"
      ]
     },
     "execution_count": 24,
     "metadata": {},
     "output_type": "execute_result"
    }
   ],
   "source": [
    "df[\"intake_year\"].max()"
   ]
  },
  {
   "cell_type": "code",
   "execution_count": 25,
   "id": "05fb7147",
   "metadata": {},
   "outputs": [
    {
     "data": {
      "text/plain": [
       "Dog      45366\n",
       "Cat      29539\n",
       "Other     4428\n",
       "Bird       339\n",
       "Name: animal_type, dtype: int64"
      ]
     },
     "execution_count": 25,
     "metadata": {},
     "output_type": "execute_result"
    }
   ],
   "source": [
    "df[\"animal_type\"].value_counts()\n",
    "\n",
    "# In this dataset dogs are the majority typ of animals rescued"
   ]
  },
  {
   "cell_type": "code",
   "execution_count": 26,
   "id": "c4a7f23e",
   "metadata": {},
   "outputs": [
    {
     "data": {
      "text/plain": [
       "Domestic Shorthair Mix              23423\n",
       "Pit Bull Mix                         6256\n",
       "Chihuahua Shorthair Mix              4831\n",
       "Labrador Retriever Mix               4789\n",
       "Domestic Medium Hair Mix             2326\n",
       "                                    ...  \n",
       "Miniature Poodle/Havanese               1\n",
       "Rabbit Lh                               1\n",
       "French Bulldog/Pug                      1\n",
       "Irish Terrier/Irish Wolfhound           1\n",
       "Australian Shepherd/Basset Hound        1\n",
       "Name: breed, Length: 2155, dtype: int64"
      ]
     },
     "execution_count": 26,
     "metadata": {},
     "output_type": "execute_result"
    }
   ],
   "source": [
    "#pd.set_option('display.max_rows', None)\n",
    "\n",
    "df[\"breed\"].value_counts()"
   ]
  },
  {
   "cell_type": "code",
   "execution_count": 27,
   "id": "fd29e45d",
   "metadata": {},
   "outputs": [
    {
     "data": {
      "text/plain": [
       "2155"
      ]
     },
     "execution_count": 27,
     "metadata": {},
     "output_type": "execute_result"
    }
   ],
   "source": [
    "df[\"breed\"].nunique()"
   ]
  },
  {
   "cell_type": "code",
   "execution_count": 28,
   "id": "d19fecf2",
   "metadata": {},
   "outputs": [
    {
     "data": {
      "text/plain": [
       "age_upon_outcome                  0\n",
       "animal_id_outcome                 0\n",
       "date_of_birth                     0\n",
       "outcome_subtype               43324\n",
       "outcome_type                     10\n",
       "sex_upon_outcome                  1\n",
       "age_upon_outcome_(days)           0\n",
       "age_upon_outcome_(years)          0\n",
       "age_upon_outcome_age_group        0\n",
       "outcome_datetime                  0\n",
       "outcome_month                     0\n",
       "outcome_year                      0\n",
       "outcome_monthyear                 0\n",
       "outcome_weekday                   0\n",
       "outcome_hour                      0\n",
       "outcome_number                    0\n",
       "dob_year                          0\n",
       "dob_month                         0\n",
       "dob_monthyear                     0\n",
       "age_upon_intake                   0\n",
       "animal_id_intake                  0\n",
       "animal_type                       0\n",
       "breed                             0\n",
       "color                             0\n",
       "found_location                    0\n",
       "intake_condition                  0\n",
       "intake_type                       0\n",
       "sex_upon_intake                   1\n",
       "count                             0\n",
       "age_upon_intake_(days)            0\n",
       "age_upon_intake_(years)           0\n",
       "age_upon_intake_age_group         0\n",
       "intake_datetime                   0\n",
       "intake_month                      0\n",
       "intake_year                       0\n",
       "intake_monthyear                  0\n",
       "intake_weekday                    0\n",
       "intake_hour                       0\n",
       "intake_number                     0\n",
       "time_in_shelter                   0\n",
       "time_in_shelter_days              0\n",
       "dtype: int64"
      ]
     },
     "execution_count": 28,
     "metadata": {},
     "output_type": "execute_result"
    }
   ],
   "source": [
    "df.isnull().sum()"
   ]
  },
  {
   "cell_type": "markdown",
   "id": "e0ef60a0",
   "metadata": {},
   "source": [
    "<b> Data Preprocesing <b>"
   ]
  },
  {
   "cell_type": "code",
   "execution_count": 29,
   "id": "2cd579e4",
   "metadata": {},
   "outputs": [],
   "source": [
    "df = df.drop([\"outcome_subtype\"], axis = 1 )\n",
    "\n",
    "# outcome_subtype has more than half of the dataset record empty hence I decide to drop this column"
   ]
  },
  {
   "cell_type": "code",
   "execution_count": 30,
   "id": "ea459ca9",
   "metadata": {},
   "outputs": [
    {
     "data": {
      "text/plain": [
       "age_upon_outcome               0\n",
       "animal_id_outcome              0\n",
       "date_of_birth                  0\n",
       "outcome_type                  10\n",
       "sex_upon_outcome               1\n",
       "age_upon_outcome_(days)        0\n",
       "age_upon_outcome_(years)       0\n",
       "age_upon_outcome_age_group     0\n",
       "outcome_datetime               0\n",
       "outcome_month                  0\n",
       "outcome_year                   0\n",
       "outcome_monthyear              0\n",
       "outcome_weekday                0\n",
       "outcome_hour                   0\n",
       "outcome_number                 0\n",
       "dob_year                       0\n",
       "dob_month                      0\n",
       "dob_monthyear                  0\n",
       "age_upon_intake                0\n",
       "animal_id_intake               0\n",
       "animal_type                    0\n",
       "breed                          0\n",
       "color                          0\n",
       "found_location                 0\n",
       "intake_condition               0\n",
       "intake_type                    0\n",
       "sex_upon_intake                1\n",
       "count                          0\n",
       "age_upon_intake_(days)         0\n",
       "age_upon_intake_(years)        0\n",
       "age_upon_intake_age_group      0\n",
       "intake_datetime                0\n",
       "intake_month                   0\n",
       "intake_year                    0\n",
       "intake_monthyear               0\n",
       "intake_weekday                 0\n",
       "intake_hour                    0\n",
       "intake_number                  0\n",
       "time_in_shelter                0\n",
       "time_in_shelter_days           0\n",
       "dtype: int64"
      ]
     },
     "execution_count": 30,
     "metadata": {},
     "output_type": "execute_result"
    }
   ],
   "source": [
    "df.isnull().sum()"
   ]
  },
  {
   "cell_type": "code",
   "execution_count": 33,
   "id": "c75e48f5",
   "metadata": {},
   "outputs": [],
   "source": [
    "df[\"sex_upon_outcome\"].fillna(\"Unknown\", inplace = True)\n",
    "\n",
    "# sex_upon_outcome has only one missing value which now will be allocated with \"unknown\" type"
   ]
  },
  {
   "cell_type": "code",
   "execution_count": 34,
   "id": "aef24b2a",
   "metadata": {},
   "outputs": [
    {
     "data": {
      "text/plain": [
       "age_upon_outcome               0\n",
       "animal_id_outcome              0\n",
       "date_of_birth                  0\n",
       "outcome_type                  10\n",
       "sex_upon_outcome               0\n",
       "age_upon_outcome_(days)        0\n",
       "age_upon_outcome_(years)       0\n",
       "age_upon_outcome_age_group     0\n",
       "outcome_datetime               0\n",
       "outcome_month                  0\n",
       "outcome_year                   0\n",
       "outcome_monthyear              0\n",
       "outcome_weekday                0\n",
       "outcome_hour                   0\n",
       "outcome_number                 0\n",
       "dob_year                       0\n",
       "dob_month                      0\n",
       "dob_monthyear                  0\n",
       "age_upon_intake                0\n",
       "animal_id_intake               0\n",
       "animal_type                    0\n",
       "breed                          0\n",
       "color                          0\n",
       "found_location                 0\n",
       "intake_condition               0\n",
       "intake_type                    0\n",
       "sex_upon_intake                1\n",
       "count                          0\n",
       "age_upon_intake_(days)         0\n",
       "age_upon_intake_(years)        0\n",
       "age_upon_intake_age_group      0\n",
       "intake_datetime                0\n",
       "intake_month                   0\n",
       "intake_year                    0\n",
       "intake_monthyear               0\n",
       "intake_weekday                 0\n",
       "intake_hour                    0\n",
       "intake_number                  0\n",
       "time_in_shelter                0\n",
       "time_in_shelter_days           0\n",
       "dtype: int64"
      ]
     },
     "execution_count": 34,
     "metadata": {},
     "output_type": "execute_result"
    }
   ],
   "source": [
    "df.isnull().sum()"
   ]
  },
  {
   "cell_type": "code",
   "execution_count": null,
   "id": "cfeed7fc",
   "metadata": {},
   "outputs": [],
   "source": []
  }
 ],
 "metadata": {
  "kernelspec": {
   "display_name": "Python 3 (ipykernel)",
   "language": "python",
   "name": "python3"
  },
  "language_info": {
   "codemirror_mode": {
    "name": "ipython",
    "version": 3
   },
   "file_extension": ".py",
   "mimetype": "text/x-python",
   "name": "python",
   "nbconvert_exporter": "python",
   "pygments_lexer": "ipython3",
   "version": "3.10.11"
  }
 },
 "nbformat": 4,
 "nbformat_minor": 5
}
